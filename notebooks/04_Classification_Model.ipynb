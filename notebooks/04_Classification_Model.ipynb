{
 "cells": [
  {
   "cell_type": "code",
   "execution_count": 6,
   "metadata": {},
   "outputs": [],
   "source": [
    "import pandas as pd\n",
    "import numpy as np\n",
    "import tensorflow as tf\n",
    "from py2neo import Graph"
   ]
  },
  {
   "cell_type": "markdown",
   "metadata": {},
   "source": [
    "### 1. Loading Data"
   ]
  },
  {
   "cell_type": "code",
   "execution_count": 5,
   "metadata": {},
   "outputs": [],
   "source": [
    "df = pd.read_csv('../data/df.csv')"
   ]
  },
  {
   "cell_type": "code",
   "execution_count": 4,
   "metadata": {},
   "outputs": [
    {
     "data": {
      "text/plain": [
       "(9125, 3)"
      ]
     },
     "execution_count": 4,
     "metadata": {},
     "output_type": "execute_result"
    }
   ],
   "source": [
    "df.shape"
   ]
  },
  {
   "cell_type": "markdown",
   "metadata": {},
   "source": [
    "## 2. Auxiliary Graph Functions"
   ]
  },
  {
   "cell_type": "code",
   "execution_count": 11,
   "metadata": {},
   "outputs": [],
   "source": [
    "graph = Graph(\"bolt://34.201.68.240:33577\", auth=(\"neo4j\", \"plexiglass-berth-acquisitions\"))"
   ]
  },
  {
   "cell_type": "code",
   "execution_count": 12,
   "metadata": {},
   "outputs": [],
   "source": [
    "def predict_genres(movie_id_node, genres_id):\n",
    "    movie_emb = df[df['source']==movie_id_node]['embedding']\n",
    "    movie_prep = str_to_features(movie_emb, float)\n",
    "    movie_prediction = model.predict(movie_prep)[0]\n",
    "    genre_ids['prob'] = pd.Series(movie_prediction)\n",
    "    return genre_ids.sort_values('prob', ascending=False)"
   ]
  },
  {
   "cell_type": "code",
   "execution_count": 10,
   "metadata": {},
   "outputs": [],
   "source": [
    "def get_movie_info(movie_id_node, graph):\n",
    "    return graph.run(\"\"\"\n",
    "    MATCH (m:Movie)-[:IN_GENRE]->(g:Genre) WHERE id(m)={id} RETURN m.id, m.title, collect(g.name)\n",
    "    \"\"\", {'id': movie_id_node}).to_data_frame()"
   ]
  },
  {
   "cell_type": "code",
   "execution_count": 160,
   "metadata": {},
   "outputs": [],
   "source": [
    "def get_movie_id(title, graph):\n",
    "    return graph.run(\"\"\"\n",
    "    MATCH (m:Movie) WHERE m.title={title} RETURN id(m) as id\n",
    "    \"\"\", {'title': title}).data()[0]['id']"
   ]
  },
  {
   "cell_type": "markdown",
   "metadata": {},
   "source": [
    "### Trying transforming the problem into several binary classification problems"
   ]
  },
  {
   "cell_type": "code",
   "execution_count": 180,
   "metadata": {},
   "outputs": [],
   "source": [
    "genre_cols = genre_ids['g.name'].values"
   ]
  },
  {
   "cell_type": "code",
   "execution_count": 186,
   "metadata": {},
   "outputs": [],
   "source": [
    "emb_cols = ['d' + str(i) for i in range(1, 101)]"
   ]
  },
  {
   "cell_type": "code",
   "execution_count": 193,
   "metadata": {},
   "outputs": [],
   "source": [
    "new_df = df.join(pd.DataFrame(df.genres.str.strip(\"[]\").str.split(\", \").tolist(), columns=genre_cols, index=df.index, dtype=int))"
   ]
  },
  {
   "cell_type": "code",
   "execution_count": 194,
   "metadata": {},
   "outputs": [],
   "source": [
    "new_df = new_df.join(pd.DataFrame(new_df.embedding.str.strip(\"[]\").str.split(\", \").tolist(), columns=emb_cols, index=new_df.index, dtype=float))"
   ]
  },
  {
   "cell_type": "code",
   "execution_count": 197,
   "metadata": {},
   "outputs": [],
   "source": [
    "new_df = new_df.drop(['embedding', 'genres'], axis=1)"
   ]
  },
  {
   "cell_type": "code",
   "execution_count": 199,
   "metadata": {},
   "outputs": [
    {
     "data": {
      "text/html": [
       "<div>\n",
       "<style scoped>\n",
       "    .dataframe tbody tr th:only-of-type {\n",
       "        vertical-align: middle;\n",
       "    }\n",
       "\n",
       "    .dataframe tbody tr th {\n",
       "        vertical-align: top;\n",
       "    }\n",
       "\n",
       "    .dataframe thead th {\n",
       "        text-align: right;\n",
       "    }\n",
       "</style>\n",
       "<table border=\"1\" class=\"dataframe\">\n",
       "  <thead>\n",
       "    <tr style=\"text-align: right;\">\n",
       "      <th></th>\n",
       "      <th>source</th>\n",
       "      <th>Adventure</th>\n",
       "      <th>Animation</th>\n",
       "      <th>Children</th>\n",
       "      <th>Comedy</th>\n",
       "      <th>Fantasy</th>\n",
       "      <th>Romance</th>\n",
       "      <th>Drama</th>\n",
       "      <th>Action</th>\n",
       "      <th>Crime</th>\n",
       "      <th>...</th>\n",
       "      <th>d91</th>\n",
       "      <th>d92</th>\n",
       "      <th>d93</th>\n",
       "      <th>d94</th>\n",
       "      <th>d95</th>\n",
       "      <th>d96</th>\n",
       "      <th>d97</th>\n",
       "      <th>d98</th>\n",
       "      <th>d99</th>\n",
       "      <th>d100</th>\n",
       "    </tr>\n",
       "  </thead>\n",
       "  <tbody>\n",
       "    <tr>\n",
       "      <th>0</th>\n",
       "      <td>0</td>\n",
       "      <td>0</td>\n",
       "      <td>0</td>\n",
       "      <td>1</td>\n",
       "      <td>1</td>\n",
       "      <td>1</td>\n",
       "      <td>1</td>\n",
       "      <td>0</td>\n",
       "      <td>0</td>\n",
       "      <td>0</td>\n",
       "      <td>...</td>\n",
       "      <td>4.866983</td>\n",
       "      <td>-1.421340</td>\n",
       "      <td>4.838544</td>\n",
       "      <td>-3.507505</td>\n",
       "      <td>-1.868826</td>\n",
       "      <td>-0.369160</td>\n",
       "      <td>1.107630</td>\n",
       "      <td>1.056987</td>\n",
       "      <td>-0.882342</td>\n",
       "      <td>-4.264614</td>\n",
       "    </tr>\n",
       "    <tr>\n",
       "      <th>1</th>\n",
       "      <td>5</td>\n",
       "      <td>0</td>\n",
       "      <td>0</td>\n",
       "      <td>1</td>\n",
       "      <td>0</td>\n",
       "      <td>1</td>\n",
       "      <td>0</td>\n",
       "      <td>0</td>\n",
       "      <td>0</td>\n",
       "      <td>0</td>\n",
       "      <td>...</td>\n",
       "      <td>5.732968</td>\n",
       "      <td>-0.516730</td>\n",
       "      <td>4.016620</td>\n",
       "      <td>-0.577164</td>\n",
       "      <td>-0.017154</td>\n",
       "      <td>-0.009479</td>\n",
       "      <td>1.634397</td>\n",
       "      <td>0.620139</td>\n",
       "      <td>-4.063956</td>\n",
       "      <td>-4.812520</td>\n",
       "    </tr>\n",
       "    <tr>\n",
       "      <th>2</th>\n",
       "      <td>7</td>\n",
       "      <td>0</td>\n",
       "      <td>0</td>\n",
       "      <td>0</td>\n",
       "      <td>0</td>\n",
       "      <td>0</td>\n",
       "      <td>1</td>\n",
       "      <td>0</td>\n",
       "      <td>0</td>\n",
       "      <td>0</td>\n",
       "      <td>...</td>\n",
       "      <td>4.395160</td>\n",
       "      <td>-0.904002</td>\n",
       "      <td>3.504909</td>\n",
       "      <td>0.375195</td>\n",
       "      <td>-1.743677</td>\n",
       "      <td>-0.212724</td>\n",
       "      <td>-0.710979</td>\n",
       "      <td>0.006432</td>\n",
       "      <td>0.609505</td>\n",
       "      <td>-0.453959</td>\n",
       "    </tr>\n",
       "    <tr>\n",
       "      <th>3</th>\n",
       "      <td>8</td>\n",
       "      <td>0</td>\n",
       "      <td>0</td>\n",
       "      <td>0</td>\n",
       "      <td>0</td>\n",
       "      <td>0</td>\n",
       "      <td>1</td>\n",
       "      <td>0</td>\n",
       "      <td>0</td>\n",
       "      <td>1</td>\n",
       "      <td>...</td>\n",
       "      <td>2.223411</td>\n",
       "      <td>2.859890</td>\n",
       "      <td>0.737771</td>\n",
       "      <td>0.251222</td>\n",
       "      <td>-1.521303</td>\n",
       "      <td>-0.713885</td>\n",
       "      <td>-1.579755</td>\n",
       "      <td>-4.259443</td>\n",
       "      <td>-4.009755</td>\n",
       "      <td>1.258942</td>\n",
       "    </tr>\n",
       "    <tr>\n",
       "      <th>4</th>\n",
       "      <td>11</td>\n",
       "      <td>0</td>\n",
       "      <td>0</td>\n",
       "      <td>0</td>\n",
       "      <td>0</td>\n",
       "      <td>0</td>\n",
       "      <td>1</td>\n",
       "      <td>0</td>\n",
       "      <td>0</td>\n",
       "      <td>0</td>\n",
       "      <td>...</td>\n",
       "      <td>3.670642</td>\n",
       "      <td>0.248816</td>\n",
       "      <td>5.397691</td>\n",
       "      <td>-1.053222</td>\n",
       "      <td>-0.000371</td>\n",
       "      <td>-1.802294</td>\n",
       "      <td>-1.750267</td>\n",
       "      <td>-3.469961</td>\n",
       "      <td>0.478070</td>\n",
       "      <td>-1.260770</td>\n",
       "    </tr>\n",
       "    <tr>\n",
       "      <th>...</th>\n",
       "      <td>...</td>\n",
       "      <td>...</td>\n",
       "      <td>...</td>\n",
       "      <td>...</td>\n",
       "      <td>...</td>\n",
       "      <td>...</td>\n",
       "      <td>...</td>\n",
       "      <td>...</td>\n",
       "      <td>...</td>\n",
       "      <td>...</td>\n",
       "      <td>...</td>\n",
       "      <td>...</td>\n",
       "      <td>...</td>\n",
       "      <td>...</td>\n",
       "      <td>...</td>\n",
       "      <td>...</td>\n",
       "      <td>...</td>\n",
       "      <td>...</td>\n",
       "      <td>...</td>\n",
       "      <td>...</td>\n",
       "      <td>...</td>\n",
       "    </tr>\n",
       "    <tr>\n",
       "      <th>9120</th>\n",
       "      <td>9140</td>\n",
       "      <td>0</td>\n",
       "      <td>0</td>\n",
       "      <td>1</td>\n",
       "      <td>0</td>\n",
       "      <td>0</td>\n",
       "      <td>0</td>\n",
       "      <td>0</td>\n",
       "      <td>0</td>\n",
       "      <td>1</td>\n",
       "      <td>...</td>\n",
       "      <td>0.674511</td>\n",
       "      <td>-1.599569</td>\n",
       "      <td>-2.585011</td>\n",
       "      <td>-3.509592</td>\n",
       "      <td>-0.676413</td>\n",
       "      <td>0.455164</td>\n",
       "      <td>-0.931492</td>\n",
       "      <td>-0.345227</td>\n",
       "      <td>-0.636330</td>\n",
       "      <td>-2.087504</td>\n",
       "    </tr>\n",
       "    <tr>\n",
       "      <th>9121</th>\n",
       "      <td>9141</td>\n",
       "      <td>0</td>\n",
       "      <td>1</td>\n",
       "      <td>1</td>\n",
       "      <td>0</td>\n",
       "      <td>0</td>\n",
       "      <td>0</td>\n",
       "      <td>0</td>\n",
       "      <td>0</td>\n",
       "      <td>0</td>\n",
       "      <td>...</td>\n",
       "      <td>-3.612969</td>\n",
       "      <td>1.423751</td>\n",
       "      <td>1.263315</td>\n",
       "      <td>-0.293734</td>\n",
       "      <td>-1.048563</td>\n",
       "      <td>-1.962560</td>\n",
       "      <td>0.914918</td>\n",
       "      <td>0.146634</td>\n",
       "      <td>0.557713</td>\n",
       "      <td>-2.739617</td>\n",
       "    </tr>\n",
       "    <tr>\n",
       "      <th>9122</th>\n",
       "      <td>9142</td>\n",
       "      <td>0</td>\n",
       "      <td>0</td>\n",
       "      <td>0</td>\n",
       "      <td>0</td>\n",
       "      <td>0</td>\n",
       "      <td>0</td>\n",
       "      <td>0</td>\n",
       "      <td>1</td>\n",
       "      <td>0</td>\n",
       "      <td>...</td>\n",
       "      <td>-1.614809</td>\n",
       "      <td>-1.497918</td>\n",
       "      <td>-1.566140</td>\n",
       "      <td>1.744732</td>\n",
       "      <td>-1.395121</td>\n",
       "      <td>-0.351850</td>\n",
       "      <td>1.300761</td>\n",
       "      <td>1.375659</td>\n",
       "      <td>1.729690</td>\n",
       "      <td>-0.228616</td>\n",
       "    </tr>\n",
       "    <tr>\n",
       "      <th>9123</th>\n",
       "      <td>9143</td>\n",
       "      <td>0</td>\n",
       "      <td>0</td>\n",
       "      <td>0</td>\n",
       "      <td>0</td>\n",
       "      <td>0</td>\n",
       "      <td>1</td>\n",
       "      <td>0</td>\n",
       "      <td>0</td>\n",
       "      <td>0</td>\n",
       "      <td>...</td>\n",
       "      <td>1.966081</td>\n",
       "      <td>-1.004988</td>\n",
       "      <td>-1.772244</td>\n",
       "      <td>0.721342</td>\n",
       "      <td>-2.838770</td>\n",
       "      <td>2.408803</td>\n",
       "      <td>2.469480</td>\n",
       "      <td>-1.471443</td>\n",
       "      <td>1.049527</td>\n",
       "      <td>-0.171556</td>\n",
       "    </tr>\n",
       "    <tr>\n",
       "      <th>9124</th>\n",
       "      <td>9144</td>\n",
       "      <td>0</td>\n",
       "      <td>0</td>\n",
       "      <td>0</td>\n",
       "      <td>0</td>\n",
       "      <td>0</td>\n",
       "      <td>0</td>\n",
       "      <td>0</td>\n",
       "      <td>1</td>\n",
       "      <td>0</td>\n",
       "      <td>...</td>\n",
       "      <td>-1.717148</td>\n",
       "      <td>-0.631081</td>\n",
       "      <td>-0.545613</td>\n",
       "      <td>0.347262</td>\n",
       "      <td>-1.249036</td>\n",
       "      <td>0.572286</td>\n",
       "      <td>-0.666343</td>\n",
       "      <td>-0.705098</td>\n",
       "      <td>0.770588</td>\n",
       "      <td>0.064856</td>\n",
       "    </tr>\n",
       "  </tbody>\n",
       "</table>\n",
       "<p>9125 rows × 121 columns</p>\n",
       "</div>"
      ],
      "text/plain": [
       "      source Adventure Animation Children Comedy Fantasy Romance Drama Action  \\\n",
       "0          0         0         0        1      1       1       1     0      0   \n",
       "1          5         0         0        1      0       1       0     0      0   \n",
       "2          7         0         0        0      0       0       1     0      0   \n",
       "3          8         0         0        0      0       0       1     0      0   \n",
       "4         11         0         0        0      0       0       1     0      0   \n",
       "...      ...       ...       ...      ...    ...     ...     ...   ...    ...   \n",
       "9120    9140         0         0        1      0       0       0     0      0   \n",
       "9121    9141         0         1        1      0       0       0     0      0   \n",
       "9122    9142         0         0        0      0       0       0     0      1   \n",
       "9123    9143         0         0        0      0       0       1     0      0   \n",
       "9124    9144         0         0        0      0       0       0     0      1   \n",
       "\n",
       "     Crime  ...       d91       d92       d93       d94       d95       d96  \\\n",
       "0        0  ...  4.866983 -1.421340  4.838544 -3.507505 -1.868826 -0.369160   \n",
       "1        0  ...  5.732968 -0.516730  4.016620 -0.577164 -0.017154 -0.009479   \n",
       "2        0  ...  4.395160 -0.904002  3.504909  0.375195 -1.743677 -0.212724   \n",
       "3        1  ...  2.223411  2.859890  0.737771  0.251222 -1.521303 -0.713885   \n",
       "4        0  ...  3.670642  0.248816  5.397691 -1.053222 -0.000371 -1.802294   \n",
       "...    ...  ...       ...       ...       ...       ...       ...       ...   \n",
       "9120     1  ...  0.674511 -1.599569 -2.585011 -3.509592 -0.676413  0.455164   \n",
       "9121     0  ... -3.612969  1.423751  1.263315 -0.293734 -1.048563 -1.962560   \n",
       "9122     0  ... -1.614809 -1.497918 -1.566140  1.744732 -1.395121 -0.351850   \n",
       "9123     0  ...  1.966081 -1.004988 -1.772244  0.721342 -2.838770  2.408803   \n",
       "9124     0  ... -1.717148 -0.631081 -0.545613  0.347262 -1.249036  0.572286   \n",
       "\n",
       "           d97       d98       d99      d100  \n",
       "0     1.107630  1.056987 -0.882342 -4.264614  \n",
       "1     1.634397  0.620139 -4.063956 -4.812520  \n",
       "2    -0.710979  0.006432  0.609505 -0.453959  \n",
       "3    -1.579755 -4.259443 -4.009755  1.258942  \n",
       "4    -1.750267 -3.469961  0.478070 -1.260770  \n",
       "...        ...       ...       ...       ...  \n",
       "9120 -0.931492 -0.345227 -0.636330 -2.087504  \n",
       "9121  0.914918  0.146634  0.557713 -2.739617  \n",
       "9122  1.300761  1.375659  1.729690 -0.228616  \n",
       "9123  2.469480 -1.471443  1.049527 -0.171556  \n",
       "9124 -0.666343 -0.705098  0.770588  0.064856  \n",
       "\n",
       "[9125 rows x 121 columns]"
      ]
     },
     "execution_count": 199,
     "metadata": {},
     "output_type": "execute_result"
    }
   ],
   "source": [
    "new_df"
   ]
  },
  {
   "cell_type": "code",
   "execution_count": 201,
   "metadata": {},
   "outputs": [
    {
     "name": "stdout",
     "output_type": "stream",
     "text": [
      "(7300, 121)\n",
      "(1825, 121)\n"
     ]
    }
   ],
   "source": [
    "from sklearn.model_selection import train_test_split\n",
    "\n",
    "train, test = train_test_split(new_df, random_state=42, test_size=0.20, shuffle=True)\n",
    "\n",
    "print(train.shape)\n",
    "print(test.shape)"
   ]
  },
  {
   "cell_type": "code",
   "execution_count": 202,
   "metadata": {},
   "outputs": [],
   "source": [
    "x_train = train[emb_cols]\n",
    "y_train = train[genre_cols]\n",
    "\n",
    "x_test = test[emb_cols]\n",
    "y_test = test[genre_cols]"
   ]
  },
  {
   "cell_type": "code",
   "execution_count": 209,
   "metadata": {},
   "outputs": [],
   "source": [
    "from sklearn.linear_model import LogisticRegression\n",
    "from sklearn.pipeline import Pipeline\n",
    "from sklearn.metrics import accuracy_score, precision_score, balanced_accuracy_score\n",
    "from sklearn.multiclass import OneVsRestClassifier"
   ]
  },
  {
   "cell_type": "code",
   "execution_count": 238,
   "metadata": {
    "scrolled": true
   },
   "outputs": [
    {
     "name": "stdout",
     "output_type": "stream",
     "text": [
      "**Processing Adventure comments...**\n",
      "Accuracy: 0.9989041095890411; Balanced accuracy: 0.8330589096231247; Precision: 0.6666666666666666\n",
      "\n",
      "\n",
      "**Processing Animation comments...**\n",
      "Accuracy: 0.9884931506849315; Balanced accuracy: 0.9850212945504411; Precision: 0.9511400651465798\n",
      "\n",
      "\n",
      "**Processing Children comments...**\n",
      "Accuracy: 0.9879452054794521; Balanced accuracy: 0.9790625451393904; Precision: 0.9327354260089686\n",
      "\n",
      "\n",
      "**Processing Comedy comments...**\n",
      "Accuracy: 0.9961643835616438; Balanced accuracy: 0.9887451207993354; Precision: 0.9523809523809523\n",
      "\n",
      "\n",
      "**Processing Fantasy comments...**\n",
      "Accuracy: 0.9961643835616438; Balanced accuracy: 0.9782277362406044; Precision: 0.9826086956521739\n",
      "\n",
      "\n",
      "**Processing Romance comments...**\n",
      "Accuracy: 0.9863013698630136; Balanced accuracy: 0.9849882902783743; Precision: 0.983941605839416\n",
      "\n",
      "\n",
      "**Processing Drama comments...**\n",
      "Accuracy: 0.9895890410958904; Balanced accuracy: 0.9837065943436449; Precision: 0.9357798165137615\n",
      "\n",
      "\n",
      "**Processing Action comments...**\n",
      "Accuracy: 0.9983561643835617; Balanced accuracy: 0.9944202898550725; Precision: 0.9801980198019802\n",
      "\n",
      "\n",
      "**Processing Crime comments...**\n",
      "Accuracy: 0.9704109589041096; Balanced accuracy: 0.9707206719111567; Precision: 0.9614074914869466\n",
      "\n",
      "\n",
      "**Processing Thriller comments...**\n",
      "Accuracy: 0.9928767123287672; Balanced accuracy: 0.989737076241238; Precision: 0.9276315789473685\n",
      "\n",
      "\n",
      "**Processing Horror comments...**\n",
      "Accuracy: 0.993972602739726; Balanced accuracy: 0.9202018265476855; Precision: 0.8181818181818182\n",
      "\n",
      "\n",
      "**Processing Mystery comments...**\n",
      "Accuracy: 0.9983561643835617; Balanced accuracy: 0.9943185918505252; Precision: 0.9945945945945946\n",
      "\n",
      "\n",
      "**Processing Sci-Fi comments...**\n",
      "Accuracy: 0.9967123287671232; Balanced accuracy: 0.9414738957540514; Precision: 0.8846153846153846\n",
      "\n",
      "\n",
      "**Processing Documentary comments...**\n",
      "Accuracy: 0.9961643835616438; Balanced accuracy: 0.9825415840838957; Precision: 0.956989247311828\n",
      "\n",
      "\n",
      "**Processing IMAX comments...**\n",
      "Accuracy: 0.9928767123287672; Balanced accuracy: 0.9751437551904296; Precision: 0.9298245614035088\n",
      "\n",
      "\n",
      "**Processing War comments...**\n",
      "Accuracy: 0.9912328767123287; Balanced accuracy: 0.9848421926910299; Precision: 0.975\n",
      "\n",
      "\n",
      "**Processing Musical comments...**\n",
      "Accuracy: 0.9917808219178083; Balanced accuracy: 0.968793976920912; Precision: 0.96\n",
      "\n",
      "\n",
      "**Processing Western comments...**\n",
      "Accuracy: 0.9841095890410959; Balanced accuracy: 0.9788968112497525; Precision: 0.9455587392550143\n",
      "\n",
      "\n",
      "**Processing Film-Noir comments...**\n",
      "Accuracy: 0.9956164383561644; Balanced accuracy: 0.9847731798045904; Precision: 0.9230769230769231\n",
      "\n",
      "\n",
      "**Processing (no genres listed) comments...**\n",
      "Accuracy: 0.9967123287671232; Balanced accuracy: 0.9685808982683983; Precision: 0.8857142857142857\n",
      "\n",
      "\n"
     ]
    }
   ],
   "source": [
    "# Using pipeline for applying logistic regression and one vs rest classifier\n",
    "LogReg_pipeline = Pipeline([\n",
    "                ('clf', OneVsRestClassifier(LogisticRegression(solver='sag'), n_jobs=-1)),\n",
    "            ])\n",
    "models = {}\n",
    "\n",
    "for genre in genre_cols:\n",
    "    print('**Processing {} comments...**'.format(genre))\n",
    "    \n",
    "    # Training logistic regression model on train data\n",
    "    LogReg_pipeline.fit(x_train, y_train[genre])\n",
    "    models[genre] = LogReg_pipeline\n",
    "    \n",
    "    # calculating test accuracy\n",
    "    prediction = LogReg_pipeline.predict(x_test)\n",
    "    print('Accuracy: {}; Balanced accuracy: {}; Precision: {}'.format(accuracy_score(y_test[genre], prediction), \n",
    "                                                                      balanced_accuracy_score(y_test[genre], prediction), \n",
    "                                                                      precision_score(y_test[genre], prediction, pos_label='1')))\n",
    "    print(\"\\n\")\n"
   ]
  },
  {
   "cell_type": "code",
   "execution_count": 226,
   "metadata": {},
   "outputs": [
    {
     "data": {
      "text/plain": [
       "8237"
      ]
     },
     "execution_count": 226,
     "metadata": {},
     "output_type": "execute_result"
    }
   ],
   "source": [
    "get_movie_id('Zero Dark Thirty', graph)"
   ]
  },
  {
   "cell_type": "code",
   "execution_count": 228,
   "metadata": {},
   "outputs": [
    {
     "data": {
      "text/html": [
       "<div>\n",
       "<style scoped>\n",
       "    .dataframe tbody tr th:only-of-type {\n",
       "        vertical-align: middle;\n",
       "    }\n",
       "\n",
       "    .dataframe tbody tr th {\n",
       "        vertical-align: top;\n",
       "    }\n",
       "\n",
       "    .dataframe thead th {\n",
       "        text-align: right;\n",
       "    }\n",
       "</style>\n",
       "<table border=\"1\" class=\"dataframe\">\n",
       "  <thead>\n",
       "    <tr style=\"text-align: right;\">\n",
       "      <th></th>\n",
       "      <th>m.id</th>\n",
       "      <th>m.title</th>\n",
       "      <th>collect(g.name)</th>\n",
       "    </tr>\n",
       "  </thead>\n",
       "  <tbody>\n",
       "    <tr>\n",
       "      <th>0</th>\n",
       "      <td>None</td>\n",
       "      <td>Zero Dark Thirty</td>\n",
       "      <td>[Action, Thriller, Drama]</td>\n",
       "    </tr>\n",
       "  </tbody>\n",
       "</table>\n",
       "</div>"
      ],
      "text/plain": [
       "   m.id           m.title            collect(g.name)\n",
       "0  None  Zero Dark Thirty  [Action, Thriller, Drama]"
      ]
     },
     "execution_count": 228,
     "metadata": {},
     "output_type": "execute_result"
    }
   ],
   "source": [
    "get_movie_info(8237, graph)"
   ]
  },
  {
   "cell_type": "code",
   "execution_count": 235,
   "metadata": {},
   "outputs": [],
   "source": [
    "movie_to_predict = new_df[new_df['source']==8237][emb_cols]"
   ]
  },
  {
   "cell_type": "code",
   "execution_count": 241,
   "metadata": {},
   "outputs": [],
   "source": [
    "genre_prediction = {}\n",
    "for genre in genre_cols:\n",
    "    model = models[genre]\n",
    "    genre_prediction[genre] = model.predict(movie_to_predict)"
   ]
  },
  {
   "cell_type": "code",
   "execution_count": 242,
   "metadata": {},
   "outputs": [
    {
     "data": {
      "text/plain": [
       "{'Adventure': array(['0'], dtype='<U1'),\n",
       " 'Animation': array(['0'], dtype='<U1'),\n",
       " 'Children': array(['0'], dtype='<U1'),\n",
       " 'Comedy': array(['0'], dtype='<U1'),\n",
       " 'Fantasy': array(['0'], dtype='<U1'),\n",
       " 'Romance': array(['0'], dtype='<U1'),\n",
       " 'Drama': array(['0'], dtype='<U1'),\n",
       " 'Action': array(['0'], dtype='<U1'),\n",
       " 'Crime': array(['0'], dtype='<U1'),\n",
       " 'Thriller': array(['0'], dtype='<U1'),\n",
       " 'Horror': array(['0'], dtype='<U1'),\n",
       " 'Mystery': array(['0'], dtype='<U1'),\n",
       " 'Sci-Fi': array(['0'], dtype='<U1'),\n",
       " 'Documentary': array(['0'], dtype='<U1'),\n",
       " 'IMAX': array(['0'], dtype='<U1'),\n",
       " 'War': array(['0'], dtype='<U1'),\n",
       " 'Musical': array(['0'], dtype='<U1'),\n",
       " 'Western': array(['0'], dtype='<U1'),\n",
       " 'Film-Noir': array(['0'], dtype='<U1'),\n",
       " '(no genres listed)': array(['0'], dtype='<U1')}"
      ]
     },
     "execution_count": 242,
     "metadata": {},
     "output_type": "execute_result"
    }
   ],
   "source": [
    "genre_prediction"
   ]
  }
 ],
 "metadata": {
  "kernelspec": {
   "display_name": "Python 3",
   "language": "python",
   "name": "python3"
  },
  "language_info": {
   "codemirror_mode": {
    "name": "ipython",
    "version": 3
   },
   "file_extension": ".py",
   "mimetype": "text/x-python",
   "name": "python",
   "nbconvert_exporter": "python",
   "pygments_lexer": "ipython3",
   "version": "3.7.6"
  }
 },
 "nbformat": 4,
 "nbformat_minor": 4
}
