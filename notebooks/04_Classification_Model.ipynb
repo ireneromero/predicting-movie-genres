{
 "cells": [
  {
   "cell_type": "code",
   "execution_count": 57,
   "metadata": {},
   "outputs": [],
   "source": [
    "import pandas as pd\n",
    "import numpy as np\n",
    "import tensorflow as tf\n",
    "import json\n",
    "from py2neo import Graph\n",
    "from sklearn.model_selection import train_test_split"
   ]
  },
  {
   "cell_type": "markdown",
   "metadata": {},
   "source": [
    "### 1. Loading Data"
   ]
  },
  {
   "cell_type": "code",
   "execution_count": 39,
   "metadata": {},
   "outputs": [],
   "source": [
    "df = pd.read_csv('../data/data.csv')"
   ]
  },
  {
   "cell_type": "code",
   "execution_count": 40,
   "metadata": {},
   "outputs": [
    {
     "data": {
      "text/plain": [
       "(9125, 3)"
      ]
     },
     "execution_count": 40,
     "metadata": {},
     "output_type": "execute_result"
    }
   ],
   "source": [
    "df.shape"
   ]
  },
  {
   "cell_type": "markdown",
   "metadata": {},
   "source": [
    "### 2. Auxiliary Graph Functions"
   ]
  },
  {
   "cell_type": "code",
   "execution_count": 14,
   "metadata": {},
   "outputs": [],
   "source": [
    "PATH_CONNECTION = \"../env/neo4j_connection.json\"\n",
    "connection_details = {}\n",
    "with open(PATH_CONNECTION) as connection_file:\n",
    "    connection_file_read = json.load(connection_file)\n",
    "    connection_details['bolt_url'] = connection_file_read['bolt_url']\n",
    "    connection_details['password'] = connection_file_read['password']"
   ]
  },
  {
   "cell_type": "code",
   "execution_count": 15,
   "metadata": {},
   "outputs": [],
   "source": [
    "graph = Graph(connection_details['bolt_url'], auth=(\"neo4j\", connection_details['password']))"
   ]
  },
  {
   "cell_type": "code",
   "execution_count": 17,
   "metadata": {},
   "outputs": [],
   "source": [
    "def get_movie_info(movie_id_node, graph):\n",
    "    return graph.run(\"\"\"\n",
    "    MATCH (m:Movie)-[:IN_GENRE]->(g:Genre) WHERE id(m)={id} RETURN m.id, m.title, collect(g.name)\n",
    "    \"\"\", {'id': movie_id_node}).to_data_frame()"
   ]
  },
  {
   "cell_type": "code",
   "execution_count": 38,
   "metadata": {},
   "outputs": [],
   "source": [
    "class NodeNotFound(Exception):\n",
    "    pass\n",
    "\n",
    "def get_movie_id(title, graph):\n",
    "    result = graph.run(\"\"\"\n",
    "    MATCH (m:Movie) WHERE m.title={title} RETURN id(m) as id\n",
    "    \"\"\", {'title': title}).data()\n",
    "    \n",
    "    if len(result) == 0:\n",
    "        raise NodeNotFound(\"Movie with title {} not found in graph [{}].\".format(title, graph))\n",
    "    else:\n",
    "        return result[0]['id']\n"
   ]
  },
  {
   "cell_type": "markdown",
   "metadata": {},
   "source": [
    "### 3. Data Preparation"
   ]
  },
  {
   "cell_type": "code",
   "execution_count": 48,
   "metadata": {},
   "outputs": [],
   "source": [
    "genre_cols = graph.run(\"\"\"\n",
    "MATCH (genre:Genre)\n",
    "RETURN genre.name ORDER BY genre.name\n",
    "\"\"\").to_data_frame()['genre.name'].values"
   ]
  },
  {
   "cell_type": "code",
   "execution_count": 50,
   "metadata": {},
   "outputs": [],
   "source": [
    "emb_cols = ['d' + str(i) for i in range(1, 101)]\n",
    "new_df = df.join(pd.DataFrame(df.genres.str.strip(\"[]\").str.split(\", \").tolist(), columns=genre_cols, index=df.index, dtype=int))\n",
    "new_df = new_df.join(pd.DataFrame(new_df.embedding.str.strip(\"[]\").str.split(\", \").tolist(), columns=emb_cols, index=new_df.index, dtype=float))\n",
    "new_df[genre_cols] = new_df[genre_cols].apply(pd.to_numeric, errors='raise')\n",
    "new_df = new_df.drop(['embedding', 'genres'], axis=1)\n",
    "data = new_df\n",
    "del new_df"
   ]
  },
  {
   "cell_type": "code",
   "execution_count": 51,
   "metadata": {},
   "outputs": [
    {
     "data": {
      "text/html": [
       "<div>\n",
       "<style scoped>\n",
       "    .dataframe tbody tr th:only-of-type {\n",
       "        vertical-align: middle;\n",
       "    }\n",
       "\n",
       "    .dataframe tbody tr th {\n",
       "        vertical-align: top;\n",
       "    }\n",
       "\n",
       "    .dataframe thead th {\n",
       "        text-align: right;\n",
       "    }\n",
       "</style>\n",
       "<table border=\"1\" class=\"dataframe\">\n",
       "  <thead>\n",
       "    <tr style=\"text-align: right;\">\n",
       "      <th></th>\n",
       "      <th>source</th>\n",
       "      <th>(no genres listed)</th>\n",
       "      <th>Action</th>\n",
       "      <th>Adventure</th>\n",
       "      <th>Animation</th>\n",
       "      <th>Children</th>\n",
       "      <th>Comedy</th>\n",
       "      <th>Crime</th>\n",
       "      <th>Documentary</th>\n",
       "      <th>Drama</th>\n",
       "      <th>...</th>\n",
       "      <th>d91</th>\n",
       "      <th>d92</th>\n",
       "      <th>d93</th>\n",
       "      <th>d94</th>\n",
       "      <th>d95</th>\n",
       "      <th>d96</th>\n",
       "      <th>d97</th>\n",
       "      <th>d98</th>\n",
       "      <th>d99</th>\n",
       "      <th>d100</th>\n",
       "    </tr>\n",
       "  </thead>\n",
       "  <tbody>\n",
       "    <tr>\n",
       "      <th>0</th>\n",
       "      <td>0</td>\n",
       "      <td>0</td>\n",
       "      <td>0</td>\n",
       "      <td>1</td>\n",
       "      <td>1</td>\n",
       "      <td>1</td>\n",
       "      <td>1</td>\n",
       "      <td>0</td>\n",
       "      <td>0</td>\n",
       "      <td>0</td>\n",
       "      <td>...</td>\n",
       "      <td>4.866983</td>\n",
       "      <td>-1.421340</td>\n",
       "      <td>4.838544</td>\n",
       "      <td>-3.507505</td>\n",
       "      <td>-1.868826</td>\n",
       "      <td>-0.369160</td>\n",
       "      <td>1.107630</td>\n",
       "      <td>1.056987</td>\n",
       "      <td>-0.882342</td>\n",
       "      <td>-4.264614</td>\n",
       "    </tr>\n",
       "    <tr>\n",
       "      <th>1</th>\n",
       "      <td>5</td>\n",
       "      <td>0</td>\n",
       "      <td>0</td>\n",
       "      <td>1</td>\n",
       "      <td>0</td>\n",
       "      <td>1</td>\n",
       "      <td>0</td>\n",
       "      <td>0</td>\n",
       "      <td>0</td>\n",
       "      <td>0</td>\n",
       "      <td>...</td>\n",
       "      <td>5.732968</td>\n",
       "      <td>-0.516730</td>\n",
       "      <td>4.016620</td>\n",
       "      <td>-0.577164</td>\n",
       "      <td>-0.017154</td>\n",
       "      <td>-0.009479</td>\n",
       "      <td>1.634397</td>\n",
       "      <td>0.620139</td>\n",
       "      <td>-4.063956</td>\n",
       "      <td>-4.812520</td>\n",
       "    </tr>\n",
       "    <tr>\n",
       "      <th>2</th>\n",
       "      <td>7</td>\n",
       "      <td>0</td>\n",
       "      <td>0</td>\n",
       "      <td>0</td>\n",
       "      <td>0</td>\n",
       "      <td>0</td>\n",
       "      <td>1</td>\n",
       "      <td>0</td>\n",
       "      <td>0</td>\n",
       "      <td>0</td>\n",
       "      <td>...</td>\n",
       "      <td>4.395160</td>\n",
       "      <td>-0.904002</td>\n",
       "      <td>3.504909</td>\n",
       "      <td>0.375195</td>\n",
       "      <td>-1.743677</td>\n",
       "      <td>-0.212724</td>\n",
       "      <td>-0.710979</td>\n",
       "      <td>0.006432</td>\n",
       "      <td>0.609505</td>\n",
       "      <td>-0.453959</td>\n",
       "    </tr>\n",
       "    <tr>\n",
       "      <th>3</th>\n",
       "      <td>8</td>\n",
       "      <td>0</td>\n",
       "      <td>0</td>\n",
       "      <td>0</td>\n",
       "      <td>0</td>\n",
       "      <td>0</td>\n",
       "      <td>1</td>\n",
       "      <td>0</td>\n",
       "      <td>0</td>\n",
       "      <td>1</td>\n",
       "      <td>...</td>\n",
       "      <td>2.223411</td>\n",
       "      <td>2.859890</td>\n",
       "      <td>0.737771</td>\n",
       "      <td>0.251222</td>\n",
       "      <td>-1.521303</td>\n",
       "      <td>-0.713885</td>\n",
       "      <td>-1.579755</td>\n",
       "      <td>-4.259443</td>\n",
       "      <td>-4.009755</td>\n",
       "      <td>1.258942</td>\n",
       "    </tr>\n",
       "    <tr>\n",
       "      <th>4</th>\n",
       "      <td>11</td>\n",
       "      <td>0</td>\n",
       "      <td>0</td>\n",
       "      <td>0</td>\n",
       "      <td>0</td>\n",
       "      <td>0</td>\n",
       "      <td>1</td>\n",
       "      <td>0</td>\n",
       "      <td>0</td>\n",
       "      <td>0</td>\n",
       "      <td>...</td>\n",
       "      <td>3.670642</td>\n",
       "      <td>0.248816</td>\n",
       "      <td>5.397691</td>\n",
       "      <td>-1.053222</td>\n",
       "      <td>-0.000371</td>\n",
       "      <td>-1.802294</td>\n",
       "      <td>-1.750267</td>\n",
       "      <td>-3.469961</td>\n",
       "      <td>0.478070</td>\n",
       "      <td>-1.260770</td>\n",
       "    </tr>\n",
       "    <tr>\n",
       "      <th>...</th>\n",
       "      <td>...</td>\n",
       "      <td>...</td>\n",
       "      <td>...</td>\n",
       "      <td>...</td>\n",
       "      <td>...</td>\n",
       "      <td>...</td>\n",
       "      <td>...</td>\n",
       "      <td>...</td>\n",
       "      <td>...</td>\n",
       "      <td>...</td>\n",
       "      <td>...</td>\n",
       "      <td>...</td>\n",
       "      <td>...</td>\n",
       "      <td>...</td>\n",
       "      <td>...</td>\n",
       "      <td>...</td>\n",
       "      <td>...</td>\n",
       "      <td>...</td>\n",
       "      <td>...</td>\n",
       "      <td>...</td>\n",
       "      <td>...</td>\n",
       "    </tr>\n",
       "    <tr>\n",
       "      <th>9120</th>\n",
       "      <td>9140</td>\n",
       "      <td>0</td>\n",
       "      <td>0</td>\n",
       "      <td>1</td>\n",
       "      <td>0</td>\n",
       "      <td>0</td>\n",
       "      <td>0</td>\n",
       "      <td>0</td>\n",
       "      <td>0</td>\n",
       "      <td>1</td>\n",
       "      <td>...</td>\n",
       "      <td>0.674511</td>\n",
       "      <td>-1.599569</td>\n",
       "      <td>-2.585011</td>\n",
       "      <td>-3.509592</td>\n",
       "      <td>-0.676413</td>\n",
       "      <td>0.455164</td>\n",
       "      <td>-0.931492</td>\n",
       "      <td>-0.345227</td>\n",
       "      <td>-0.636330</td>\n",
       "      <td>-2.087504</td>\n",
       "    </tr>\n",
       "    <tr>\n",
       "      <th>9121</th>\n",
       "      <td>9141</td>\n",
       "      <td>0</td>\n",
       "      <td>1</td>\n",
       "      <td>1</td>\n",
       "      <td>0</td>\n",
       "      <td>0</td>\n",
       "      <td>0</td>\n",
       "      <td>0</td>\n",
       "      <td>0</td>\n",
       "      <td>0</td>\n",
       "      <td>...</td>\n",
       "      <td>-3.612969</td>\n",
       "      <td>1.423751</td>\n",
       "      <td>1.263315</td>\n",
       "      <td>-0.293734</td>\n",
       "      <td>-1.048563</td>\n",
       "      <td>-1.962560</td>\n",
       "      <td>0.914918</td>\n",
       "      <td>0.146634</td>\n",
       "      <td>0.557713</td>\n",
       "      <td>-2.739617</td>\n",
       "    </tr>\n",
       "    <tr>\n",
       "      <th>9122</th>\n",
       "      <td>9142</td>\n",
       "      <td>0</td>\n",
       "      <td>0</td>\n",
       "      <td>0</td>\n",
       "      <td>0</td>\n",
       "      <td>0</td>\n",
       "      <td>0</td>\n",
       "      <td>0</td>\n",
       "      <td>1</td>\n",
       "      <td>0</td>\n",
       "      <td>...</td>\n",
       "      <td>-1.614809</td>\n",
       "      <td>-1.497918</td>\n",
       "      <td>-1.566140</td>\n",
       "      <td>1.744732</td>\n",
       "      <td>-1.395121</td>\n",
       "      <td>-0.351850</td>\n",
       "      <td>1.300761</td>\n",
       "      <td>1.375659</td>\n",
       "      <td>1.729690</td>\n",
       "      <td>-0.228616</td>\n",
       "    </tr>\n",
       "    <tr>\n",
       "      <th>9123</th>\n",
       "      <td>9143</td>\n",
       "      <td>0</td>\n",
       "      <td>0</td>\n",
       "      <td>0</td>\n",
       "      <td>0</td>\n",
       "      <td>0</td>\n",
       "      <td>1</td>\n",
       "      <td>0</td>\n",
       "      <td>0</td>\n",
       "      <td>0</td>\n",
       "      <td>...</td>\n",
       "      <td>1.966081</td>\n",
       "      <td>-1.004988</td>\n",
       "      <td>-1.772244</td>\n",
       "      <td>0.721342</td>\n",
       "      <td>-2.838770</td>\n",
       "      <td>2.408803</td>\n",
       "      <td>2.469480</td>\n",
       "      <td>-1.471443</td>\n",
       "      <td>1.049527</td>\n",
       "      <td>-0.171556</td>\n",
       "    </tr>\n",
       "    <tr>\n",
       "      <th>9124</th>\n",
       "      <td>9144</td>\n",
       "      <td>0</td>\n",
       "      <td>0</td>\n",
       "      <td>0</td>\n",
       "      <td>0</td>\n",
       "      <td>0</td>\n",
       "      <td>0</td>\n",
       "      <td>0</td>\n",
       "      <td>1</td>\n",
       "      <td>0</td>\n",
       "      <td>...</td>\n",
       "      <td>-1.717148</td>\n",
       "      <td>-0.631081</td>\n",
       "      <td>-0.545613</td>\n",
       "      <td>0.347262</td>\n",
       "      <td>-1.249036</td>\n",
       "      <td>0.572286</td>\n",
       "      <td>-0.666343</td>\n",
       "      <td>-0.705098</td>\n",
       "      <td>0.770588</td>\n",
       "      <td>0.064856</td>\n",
       "    </tr>\n",
       "  </tbody>\n",
       "</table>\n",
       "<p>9125 rows × 121 columns</p>\n",
       "</div>"
      ],
      "text/plain": [
       "      source  (no genres listed)  Action  Adventure  Animation  Children  \\\n",
       "0          0                   0       0          1          1         1   \n",
       "1          5                   0       0          1          0         1   \n",
       "2          7                   0       0          0          0         0   \n",
       "3          8                   0       0          0          0         0   \n",
       "4         11                   0       0          0          0         0   \n",
       "...      ...                 ...     ...        ...        ...       ...   \n",
       "9120    9140                   0       0          1          0         0   \n",
       "9121    9141                   0       1          1          0         0   \n",
       "9122    9142                   0       0          0          0         0   \n",
       "9123    9143                   0       0          0          0         0   \n",
       "9124    9144                   0       0          0          0         0   \n",
       "\n",
       "      Comedy  Crime  Documentary  Drama  ...       d91       d92       d93  \\\n",
       "0          1      0            0      0  ...  4.866983 -1.421340  4.838544   \n",
       "1          0      0            0      0  ...  5.732968 -0.516730  4.016620   \n",
       "2          1      0            0      0  ...  4.395160 -0.904002  3.504909   \n",
       "3          1      0            0      1  ...  2.223411  2.859890  0.737771   \n",
       "4          1      0            0      0  ...  3.670642  0.248816  5.397691   \n",
       "...      ...    ...          ...    ...  ...       ...       ...       ...   \n",
       "9120       0      0            0      1  ...  0.674511 -1.599569 -2.585011   \n",
       "9121       0      0            0      0  ... -3.612969  1.423751  1.263315   \n",
       "9122       0      0            1      0  ... -1.614809 -1.497918 -1.566140   \n",
       "9123       1      0            0      0  ...  1.966081 -1.004988 -1.772244   \n",
       "9124       0      0            1      0  ... -1.717148 -0.631081 -0.545613   \n",
       "\n",
       "           d94       d95       d96       d97       d98       d99      d100  \n",
       "0    -3.507505 -1.868826 -0.369160  1.107630  1.056987 -0.882342 -4.264614  \n",
       "1    -0.577164 -0.017154 -0.009479  1.634397  0.620139 -4.063956 -4.812520  \n",
       "2     0.375195 -1.743677 -0.212724 -0.710979  0.006432  0.609505 -0.453959  \n",
       "3     0.251222 -1.521303 -0.713885 -1.579755 -4.259443 -4.009755  1.258942  \n",
       "4    -1.053222 -0.000371 -1.802294 -1.750267 -3.469961  0.478070 -1.260770  \n",
       "...        ...       ...       ...       ...       ...       ...       ...  \n",
       "9120 -3.509592 -0.676413  0.455164 -0.931492 -0.345227 -0.636330 -2.087504  \n",
       "9121 -0.293734 -1.048563 -1.962560  0.914918  0.146634  0.557713 -2.739617  \n",
       "9122  1.744732 -1.395121 -0.351850  1.300761  1.375659  1.729690 -0.228616  \n",
       "9123  0.721342 -2.838770  2.408803  2.469480 -1.471443  1.049527 -0.171556  \n",
       "9124  0.347262 -1.249036  0.572286 -0.666343 -0.705098  0.770588  0.064856  \n",
       "\n",
       "[9125 rows x 121 columns]"
      ]
     },
     "execution_count": 51,
     "metadata": {},
     "output_type": "execute_result"
    }
   ],
   "source": [
    "data"
   ]
  },
  {
   "cell_type": "code",
   "execution_count": 52,
   "metadata": {},
   "outputs": [],
   "source": [
    "df_features = data[emb_cols]\n",
    "df_target = data[genre_cols]"
   ]
  },
  {
   "cell_type": "code",
   "execution_count": 58,
   "metadata": {},
   "outputs": [],
   "source": [
    "X_train, X_test, y_train, y_test = train_test_split(df_features, df_target, test_size=0.15, random_state=42, shuffle=True)"
   ]
  },
  {
   "cell_type": "code",
   "execution_count": 60,
   "metadata": {},
   "outputs": [
    {
     "name": "stdout",
     "output_type": "stream",
     "text": [
      "Shape of X_train: (7756, 100); shape of y_train: (7756, 20)\n",
      "Shape of X_test: (1369, 100); shape of y_test: (1369, 20)\n"
     ]
    }
   ],
   "source": [
    "print(\"Shape of X_train: {}; shape of y_train: {}\".format(X_train.shape,y_train.shape))\n",
    "print(\"Shape of X_test: {}; shape of y_test: {}\".format(X_test.shape,y_test.shape))"
   ]
  },
  {
   "cell_type": "markdown",
   "metadata": {},
   "source": [
    "### 4. Model Building"
   ]
  },
  {
   "cell_type": "markdown",
   "metadata": {},
   "source": [
    "#### 4.1 One vs Rest"
   ]
  },
  {
   "cell_type": "code",
   "execution_count": 112,
   "metadata": {},
   "outputs": [],
   "source": [
    "from sklearn.svm import SVC\n",
    "from sklearn.metrics import accuracy_score, multilabel_confusion_matrix, label_ranking_average_precision_score\n",
    "from sklearn.multiclass import OneVsRestClassifier"
   ]
  },
  {
   "cell_type": "code",
   "execution_count": 108,
   "metadata": {},
   "outputs": [],
   "source": [
    "model_one_vs_rest = OneVsRestClassifier(SVC()).fit(X_train, y_train)"
   ]
  },
  {
   "cell_type": "code",
   "execution_count": 110,
   "metadata": {},
   "outputs": [
    {
     "name": "stdout",
     "output_type": "stream",
     "text": [
      "Accuracy of the model One vs. Rest: 0.8897005113221329\n"
     ]
    }
   ],
   "source": [
    "y_pred = model_one_vs_rest.predict(X_test)\n",
    "print('Accuracy of the model One vs. Rest: {}'.format(accuracy_score(y_test, y_pred)))"
   ]
  },
  {
   "cell_type": "markdown",
   "metadata": {},
   "source": [
    "Accuracy is a very harsh metric since it ignores the partially correct predictions"
   ]
  },
  {
   "cell_type": "code",
   "execution_count": 113,
   "metadata": {},
   "outputs": [
    {
     "data": {
      "text/plain": [
       "0.9600168121789739"
      ]
     },
     "execution_count": 113,
     "metadata": {},
     "output_type": "execute_result"
    }
   ],
   "source": [
    "label_ranking_average_precision_score(y_pred, y_test) # greater than 0, best is 1"
   ]
  },
  {
   "cell_type": "markdown",
   "metadata": {},
   "source": [
    "#### 4.2 Ensemble of Single-Label Binary Classifiers"
   ]
  },
  {
   "cell_type": "code",
   "execution_count": 129,
   "metadata": {},
   "outputs": [],
   "source": [
    "from skmultilearn.problem_transform import BinaryRelevance\n",
    "from sklearn.naive_bayes import GaussianNB, MultinomialNB"
   ]
  },
  {
   "cell_type": "code",
   "execution_count": 124,
   "metadata": {},
   "outputs": [],
   "source": [
    "model_binary_relevance = BinaryRelevance(classifier=SVC())"
   ]
  },
  {
   "cell_type": "code",
   "execution_count": 125,
   "metadata": {},
   "outputs": [
    {
     "data": {
      "text/plain": [
       "BinaryRelevance(classifier=SVC(C=1.0, break_ties=False, cache_size=200,\n",
       "                               class_weight=None, coef0=0.0,\n",
       "                               decision_function_shape='ovr', degree=3,\n",
       "                               gamma='scale', kernel='rbf', max_iter=-1,\n",
       "                               probability=False, random_state=None,\n",
       "                               shrinking=True, tol=0.001, verbose=False),\n",
       "                require_dense=[True, True])"
      ]
     },
     "execution_count": 125,
     "metadata": {},
     "output_type": "execute_result"
    }
   ],
   "source": [
    "model_binary_relevance.fit(X_train, y_train)"
   ]
  },
  {
   "cell_type": "code",
   "execution_count": 126,
   "metadata": {},
   "outputs": [
    {
     "name": "stdout",
     "output_type": "stream",
     "text": [
      "Accuracy of the model Binary Relevance: 0.8897005113221329\n"
     ]
    }
   ],
   "source": [
    "y_pred = model_binary_relevance.predict(X_test)\n",
    "print('Accuracy of the model Binary Relevance: {}'.format(accuracy_score(y_test, y_pred)))"
   ]
  },
  {
   "cell_type": "code",
   "execution_count": 127,
   "metadata": {},
   "outputs": [
    {
     "data": {
      "text/plain": [
       "0.9600168121789739"
      ]
     },
     "execution_count": 127,
     "metadata": {},
     "output_type": "execute_result"
    }
   ],
   "source": [
    "label_ranking_average_precision_score(y_pred.toarray(), y_test) # greater than 0, best is 1"
   ]
  },
  {
   "cell_type": "markdown",
   "metadata": {},
   "source": [
    "#### 4.2 Classifier Chains"
   ]
  },
  {
   "cell_type": "code",
   "execution_count": 131,
   "metadata": {},
   "outputs": [],
   "source": [
    "model_classifier_chainltilearn.problem_transform import ClassifierChain"
   ]
  },
  {
   "cell_type": "code",
   "execution_count": 133,
   "metadata": {},
   "outputs": [
    {
     "data": {
      "text/plain": [
       "ClassifierChain(classifier=SVC(C=1.0, break_ties=False, cache_size=200,\n",
       "                               class_weight=None, coef0=0.0,\n",
       "                               decision_function_shape='ovr', degree=3,\n",
       "                               gamma='scale', kernel='rbf', max_iter=-1,\n",
       "                               probability=False, random_state=None,\n",
       "                               shrinking=True, tol=0.001, verbose=False),\n",
       "                order=None, require_dense=[True, True])"
      ]
     },
     "execution_count": 133,
     "metadata": {},
     "output_type": "execute_result"
    }
   ],
   "source": [
    "model_classifier_chain = ClassifierChain(SVC())\n",
    "model_classifier_chain.fit(X_train, y_train)"
   ]
  },
  {
   "cell_type": "code",
   "execution_count": 135,
   "metadata": {},
   "outputs": [
    {
     "name": "stdout",
     "output_type": "stream",
     "text": [
      "Accuracy of the model Binary Relevance: 0.8882395909422937\n"
     ]
    }
   ],
   "source": [
    "y_pred = model_classifier_chain.predict(X_test)\n",
    "print('Accuracy of the model Binary Relevance: {}'.format(accuracy_score(y_test, y_pred)))"
   ]
  },
  {
   "cell_type": "markdown",
   "metadata": {},
   "source": [
    "## Label Exploration with SKMultilearn"
   ]
  },
  {
   "cell_type": "code",
   "execution_count": 137,
   "metadata": {},
   "outputs": [],
   "source": [
    "PATH_EDGE_LIST = \"../data/movies.edgelist\""
   ]
  },
  {
   "cell_type": "code",
   "execution_count": 138,
   "metadata": {},
   "outputs": [
    {
     "ename": "AttributeError",
     "evalue": "'Graph' object has no attribute 'transform'",
     "output_type": "error",
     "traceback": [
      "\u001b[0;31m---------------------------------------------------------------------------\u001b[0m",
      "\u001b[0;31mAttributeError\u001b[0m                            Traceback (most recent call last)",
      "\u001b[0;32m<ipython-input-138-5faaefd90899>\u001b[0m in \u001b[0;36m<module>\u001b[0;34m\u001b[0m\n\u001b[1;32m      4\u001b[0m \u001b[0mgraphnx\u001b[0m \u001b[0;34m=\u001b[0m \u001b[0mnx\u001b[0m\u001b[0;34m.\u001b[0m\u001b[0mread_edgelist\u001b[0m\u001b[0;34m(\u001b[0m\u001b[0mPATH_EDGE_LIST\u001b[0m\u001b[0;34m,\u001b[0m \u001b[0mdelimiter\u001b[0m\u001b[0;34m=\u001b[0m\u001b[0;34m\",\"\u001b[0m\u001b[0;34m)\u001b[0m\u001b[0;34m\u001b[0m\u001b[0;34m\u001b[0m\u001b[0m\n\u001b[1;32m      5\u001b[0m \u001b[0mclusterer\u001b[0m \u001b[0;34m=\u001b[0m \u001b[0mNetworkXLabelGraphClusterer\u001b[0m\u001b[0;34m(\u001b[0m\u001b[0mgraphnx\u001b[0m\u001b[0;34m,\u001b[0m \u001b[0mmethod\u001b[0m\u001b[0;34m=\u001b[0m\u001b[0;34m'louvain'\u001b[0m\u001b[0;34m)\u001b[0m\u001b[0;34m\u001b[0m\u001b[0;34m\u001b[0m\u001b[0m\n\u001b[0;32m----> 6\u001b[0;31m \u001b[0mclusterer\u001b[0m\u001b[0;34m.\u001b[0m\u001b[0mfit_predict\u001b[0m\u001b[0;34m(\u001b[0m\u001b[0mX_train\u001b[0m\u001b[0;34m,\u001b[0m \u001b[0my_train\u001b[0m\u001b[0;34m)\u001b[0m\u001b[0;34m\u001b[0m\u001b[0;34m\u001b[0m\u001b[0m\n\u001b[0m",
      "\u001b[0;32m~/anaconda3/lib/python3.7/site-packages/skmultilearn/cluster/networkx.py\u001b[0m in \u001b[0;36mfit_predict\u001b[0;34m(self, X, y)\u001b[0m\n\u001b[1;32m    143\u001b[0m             \u001b[0mlabel\u001b[0m \u001b[0mspace\u001b[0m \u001b[0mdivision\u001b[0m\u001b[0;34m,\u001b[0m \u001b[0meach\u001b[0m \u001b[0msublist\u001b[0m \u001b[0mrepresents\u001b[0m \u001b[0mlabels\u001b[0m \u001b[0mthat\u001b[0m \u001b[0mare\u001b[0m \u001b[0;32min\u001b[0m \u001b[0mthat\u001b[0m \u001b[0mcommunity\u001b[0m\u001b[0;34m\u001b[0m\u001b[0;34m\u001b[0m\u001b[0m\n\u001b[1;32m    144\u001b[0m         \"\"\"\n\u001b[0;32m--> 145\u001b[0;31m         \u001b[0medge_map\u001b[0m \u001b[0;34m=\u001b[0m \u001b[0mself\u001b[0m\u001b[0;34m.\u001b[0m\u001b[0mgraph_builder\u001b[0m\u001b[0;34m.\u001b[0m\u001b[0mtransform\u001b[0m\u001b[0;34m(\u001b[0m\u001b[0my\u001b[0m\u001b[0;34m)\u001b[0m\u001b[0;34m\u001b[0m\u001b[0;34m\u001b[0m\u001b[0m\n\u001b[0m\u001b[1;32m    146\u001b[0m \u001b[0;34m\u001b[0m\u001b[0m\n\u001b[1;32m    147\u001b[0m         \u001b[0;32mif\u001b[0m \u001b[0mself\u001b[0m\u001b[0;34m.\u001b[0m\u001b[0mgraph_builder\u001b[0m\u001b[0;34m.\u001b[0m\u001b[0mis_weighted\u001b[0m\u001b[0;34m:\u001b[0m\u001b[0;34m\u001b[0m\u001b[0;34m\u001b[0m\u001b[0m\n",
      "\u001b[0;31mAttributeError\u001b[0m: 'Graph' object has no attribute 'transform'"
     ]
    }
   ],
   "source": [
    "import networkx as nx\n",
    "from skmultilearn.cluster.networkx import NetworkXLabelGraphClusterer\n",
    "\n",
    "graphnx = nx.read_edgelist(PATH_EDGE_LIST, delimiter=\",\")\n",
    "clusterer = NetworkXLabelGraphClusterer(graphnx, method='louvain')\n",
    "clusterer.fit_predict(X_train, y_train)"
   ]
  },
  {
   "cell_type": "code",
   "execution_count": 143,
   "metadata": {},
   "outputs": [],
   "source": [
    "from skmultilearn.cluster import MatrixLabelSpaceClusterer\n",
    "from skmultilearn.ensemble import LabelSpacePartitioningClassifier\n",
    "from skmultilearn.problem_transform import LabelPowerset\n",
    "from sklearn.cluster import KMeans"
   ]
  },
  {
   "cell_type": "code",
   "execution_count": 140,
   "metadata": {},
   "outputs": [],
   "source": [
    "matrix_clusterer = MatrixLabelSpaceClusterer(clusterer=KMeans(n_clusters=2))"
   ]
  },
  {
   "cell_type": "code",
   "execution_count": 141,
   "metadata": {},
   "outputs": [
    {
     "data": {
      "text/plain": [
       "array([list([0, 1, 2, 3, 4, 5, 6, 7, 9, 10, 11, 12, 13, 14, 15, 16, 17, 18, 19]),\n",
       "       list([8])], dtype=object)"
      ]
     },
     "execution_count": 141,
     "metadata": {},
     "output_type": "execute_result"
    }
   ],
   "source": [
    "matrix_clusterer.fit_predict(X_train, y_train)"
   ]
  },
  {
   "cell_type": "code",
   "execution_count": 144,
   "metadata": {},
   "outputs": [],
   "source": [
    "classifier = LabelSpacePartitioningClassifier(\n",
    "    classifier = LabelPowerset(classifier=GaussianNB()),\n",
    "    clusterer = matrix_clusterer\n",
    ")\n"
   ]
  }
 ],
 "metadata": {
  "kernelspec": {
   "display_name": "Python 3",
   "language": "python",
   "name": "python3"
  },
  "language_info": {
   "codemirror_mode": {
    "name": "ipython",
    "version": 3
   },
   "file_extension": ".py",
   "mimetype": "text/x-python",
   "name": "python",
   "nbconvert_exporter": "python",
   "pygments_lexer": "ipython3",
   "version": "3.7.6"
  }
 },
 "nbformat": 4,
 "nbformat_minor": 4
}
