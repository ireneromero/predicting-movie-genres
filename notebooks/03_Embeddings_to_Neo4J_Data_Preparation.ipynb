{
 "cells": [
  {
   "cell_type": "code",
   "execution_count": 52,
   "metadata": {},
   "outputs": [],
   "source": [
    "import csv\n",
    "import pandas as pd\n",
    "from py2neo import Graph\n",
    "import json"
   ]
  },
  {
   "cell_type": "markdown",
   "metadata": {},
   "source": [
    "Connect to Neo4J DB"
   ]
  },
  {
   "cell_type": "code",
   "execution_count": 9,
   "metadata": {},
   "outputs": [],
   "source": [
    "PATH_CONNECTION = \"../env/neo4j_connection.json\"\n",
    "connection_details = {}\n",
    "with open(PATH_CONNECTION) as connection_file:\n",
    "    connection_file_read = json.load(connection_file)\n",
    "    connection_details['bolt_url'] = connection_file_read['bolt_url']\n",
    "    connection_details['password'] = connection_file_read['password']"
   ]
  },
  {
   "cell_type": "code",
   "execution_count": 8,
   "metadata": {},
   "outputs": [],
   "source": [
    "graph = Graph(connection_details['bolt_url'], auth=(\"neo4j\", connection_details['password']))"
   ]
  },
  {
   "cell_type": "markdown",
   "metadata": {},
   "source": [
    "### Write embeddings to the graph"
   ]
  },
  {
   "cell_type": "code",
   "execution_count": 14,
   "metadata": {},
   "outputs": [],
   "source": [
    "PATH_TO_EMBEDDINGS = '../data/movies.emb'"
   ]
  },
  {
   "cell_type": "code",
   "execution_count": 15,
   "metadata": {},
   "outputs": [],
   "source": [
    "with open(PATH_TO_EMBEDDINGS) as movies_emb:\n",
    "    next(movies_emb)\n",
    "    reader = csv.reader(movies_emb, delimiter=' ')\n",
    "    \n",
    "    params = []\n",
    "    for row in reader:\n",
    "        movie_id = int(row[0])\n",
    "        params.append({\n",
    "            'id': movie_id,\n",
    "            'embedding': [float(item) for item in row[1:]]\n",
    "        })\n",
    "    graph.run(\"\"\"\n",
    "    UNWIND {params} AS param\n",
    "    MATCH (m:Movie) WHERE id(m) = param.id\n",
    "    SET m.embedding = param.embedding\n",
    "    \"\"\", {\"params\": params})"
   ]
  },
  {
   "cell_type": "code",
   "execution_count": 41,
   "metadata": {},
   "outputs": [],
   "source": [
    "def count_nodes(graph, node_type='Movie'):\n",
    "    # TODO include node_type in the query\n",
    "    return graph.run(\"\"\"\n",
    "    MATCH (m:Movie) RETURN count(m) as num_nodes\n",
    "    \"\"\").to_data_frame()['num_nodes'].values[0]\n"
   ]
  },
  {
   "cell_type": "code",
   "execution_count": 42,
   "metadata": {},
   "outputs": [],
   "source": [
    "def do_all_movies_have_embedding(graph):\n",
    "    num_movies = count_nodes(graph, 'Movie')\n",
    "    \n",
    "    num_movies_with_embedding = graph.run(\"\"\"\n",
    "    MATCH (m:Movie) WHERE EXISTS(m.embedding) RETURN count(m) as num_movies_with_embedding\n",
    "    \"\"\").to_data_frame()['num_movies_with_embedding'].values[0]\n",
    "    \n",
    "    return num_movies == num_movies_with_embedding"
   ]
  },
  {
   "cell_type": "code",
   "execution_count": 43,
   "metadata": {},
   "outputs": [
    {
     "data": {
      "text/plain": [
       "True"
      ]
     },
     "execution_count": 43,
     "metadata": {},
     "output_type": "execute_result"
    }
   ],
   "source": [
    "do_all_movies_have_embedding(graph)"
   ]
  },
  {
   "cell_type": "markdown",
   "metadata": {},
   "source": [
    "All movie nodes have now the embedding property (100 dimensional array)"
   ]
  },
  {
   "cell_type": "markdown",
   "metadata": {},
   "source": [
    "### Prepare data (movie, embedding, genres)"
   ]
  },
  {
   "cell_type": "code",
   "execution_count": 46,
   "metadata": {},
   "outputs": [],
   "source": [
    "movie_genres = graph.run(\"\"\"\n",
    "MATCH (m:Movie)-[:IN_GENRE]->(genre)\n",
    "WITH id(m) AS source, m.embedding as embedding, collect(id(genre)) AS target \n",
    "RETURN source, embedding, target\n",
    "\"\"\").to_data_frame()"
   ]
  },
  {
   "cell_type": "code",
   "execution_count": 47,
   "metadata": {},
   "outputs": [
    {
     "data": {
      "text/html": [
       "<div>\n",
       "<style scoped>\n",
       "    .dataframe tbody tr th:only-of-type {\n",
       "        vertical-align: middle;\n",
       "    }\n",
       "\n",
       "    .dataframe tbody tr th {\n",
       "        vertical-align: top;\n",
       "    }\n",
       "\n",
       "    .dataframe thead th {\n",
       "        text-align: right;\n",
       "    }\n",
       "</style>\n",
       "<table border=\"1\" class=\"dataframe\">\n",
       "  <thead>\n",
       "    <tr style=\"text-align: right;\">\n",
       "      <th></th>\n",
       "      <th>source</th>\n",
       "      <th>embedding</th>\n",
       "      <th>target</th>\n",
       "    </tr>\n",
       "  </thead>\n",
       "  <tbody>\n",
       "    <tr>\n",
       "      <th>0</th>\n",
       "      <td>0</td>\n",
       "      <td>[1.1568369, 4.7216134, -4.829661, 2.67412, 4.1...</td>\n",
       "      <td>[1, 2, 3, 4, 6]</td>\n",
       "    </tr>\n",
       "    <tr>\n",
       "      <th>1</th>\n",
       "      <td>5</td>\n",
       "      <td>[0.3488815, 6.3227067, -3.6201174, -0.45922923...</td>\n",
       "      <td>[1, 3, 6]</td>\n",
       "    </tr>\n",
       "    <tr>\n",
       "      <th>2</th>\n",
       "      <td>7</td>\n",
       "      <td>[-0.07164516, 4.885974, -5.827049, -0.01449445...</td>\n",
       "      <td>[4, 9]</td>\n",
       "    </tr>\n",
       "    <tr>\n",
       "      <th>3</th>\n",
       "      <td>8</td>\n",
       "      <td>[0.10417974, -3.2304595, 3.5939155, 1.1410666,...</td>\n",
       "      <td>[9, 10, 4]</td>\n",
       "    </tr>\n",
       "    <tr>\n",
       "      <th>4</th>\n",
       "      <td>11</td>\n",
       "      <td>[-1.383354, 1.648171, -3.7612596, -1.3233246, ...</td>\n",
       "      <td>[4]</td>\n",
       "    </tr>\n",
       "    <tr>\n",
       "      <th>...</th>\n",
       "      <td>...</td>\n",
       "      <td>...</td>\n",
       "      <td>...</td>\n",
       "    </tr>\n",
       "    <tr>\n",
       "      <th>9120</th>\n",
       "      <td>9140</td>\n",
       "      <td>[0.28404692, 0.21873271, -0.3254155, 1.6711218...</td>\n",
       "      <td>[10, 1, 9]</td>\n",
       "    </tr>\n",
       "    <tr>\n",
       "      <th>9121</th>\n",
       "      <td>9141</td>\n",
       "      <td>[-0.8980954, -1.6762947, -1.2756481, 0.9909565...</td>\n",
       "      <td>[37, 6, 1, 13]</td>\n",
       "    </tr>\n",
       "    <tr>\n",
       "      <th>9122</th>\n",
       "      <td>9142</td>\n",
       "      <td>[0.6182944, -0.6889125, -0.38154954, 1.0363413...</td>\n",
       "      <td>[49]</td>\n",
       "    </tr>\n",
       "    <tr>\n",
       "      <th>9123</th>\n",
       "      <td>9143</td>\n",
       "      <td>[1.9886293, 1.4495139, 1.4017138, 0.2425547, 1...</td>\n",
       "      <td>[4]</td>\n",
       "    </tr>\n",
       "    <tr>\n",
       "      <th>9124</th>\n",
       "      <td>9144</td>\n",
       "      <td>[0.22486262, -0.75055265, -0.16337693, -0.3624...</td>\n",
       "      <td>[49]</td>\n",
       "    </tr>\n",
       "  </tbody>\n",
       "</table>\n",
       "<p>9125 rows × 3 columns</p>\n",
       "</div>"
      ],
      "text/plain": [
       "      source                                          embedding  \\\n",
       "0          0  [1.1568369, 4.7216134, -4.829661, 2.67412, 4.1...   \n",
       "1          5  [0.3488815, 6.3227067, -3.6201174, -0.45922923...   \n",
       "2          7  [-0.07164516, 4.885974, -5.827049, -0.01449445...   \n",
       "3          8  [0.10417974, -3.2304595, 3.5939155, 1.1410666,...   \n",
       "4         11  [-1.383354, 1.648171, -3.7612596, -1.3233246, ...   \n",
       "...      ...                                                ...   \n",
       "9120    9140  [0.28404692, 0.21873271, -0.3254155, 1.6711218...   \n",
       "9121    9141  [-0.8980954, -1.6762947, -1.2756481, 0.9909565...   \n",
       "9122    9142  [0.6182944, -0.6889125, -0.38154954, 1.0363413...   \n",
       "9123    9143  [1.9886293, 1.4495139, 1.4017138, 0.2425547, 1...   \n",
       "9124    9144  [0.22486262, -0.75055265, -0.16337693, -0.3624...   \n",
       "\n",
       "               target  \n",
       "0     [1, 2, 3, 4, 6]  \n",
       "1           [1, 3, 6]  \n",
       "2              [4, 9]  \n",
       "3          [9, 10, 4]  \n",
       "4                 [4]  \n",
       "...               ...  \n",
       "9120       [10, 1, 9]  \n",
       "9121   [37, 6, 1, 13]  \n",
       "9122             [49]  \n",
       "9123              [4]  \n",
       "9124             [49]  \n",
       "\n",
       "[9125 rows x 3 columns]"
      ]
     },
     "execution_count": 47,
     "metadata": {},
     "output_type": "execute_result"
    }
   ],
   "source": [
    "movie_genres"
   ]
  },
  {
   "cell_type": "code",
   "execution_count": 48,
   "metadata": {},
   "outputs": [],
   "source": [
    "movie_genres_onehot = graph.run(\"\"\"\\\n",
    "MATCH (genre:Genre)\n",
    "WITH genre ORDER BY genre.name\n",
    "WITH collect(id(genre)) AS genres\n",
    "MATCH (m:Movie)-[:IN_GENRE]->(genre)\n",
    "WITH genres, id(m) AS source, m.embedding AS embedding, collect(id(genre)) AS target\n",
    "RETURN source, embedding, [g in genres | CASE WHEN g in target THEN 1 ELSE 0 END] AS genres\n",
    "\"\"\")\n",
    "data = pd.DataFrame([dict(row) for row in movie_genres_onehot])"
   ]
  },
  {
   "cell_type": "code",
   "execution_count": 49,
   "metadata": {},
   "outputs": [
    {
     "data": {
      "text/html": [
       "<div>\n",
       "<style scoped>\n",
       "    .dataframe tbody tr th:only-of-type {\n",
       "        vertical-align: middle;\n",
       "    }\n",
       "\n",
       "    .dataframe tbody tr th {\n",
       "        vertical-align: top;\n",
       "    }\n",
       "\n",
       "    .dataframe thead th {\n",
       "        text-align: right;\n",
       "    }\n",
       "</style>\n",
       "<table border=\"1\" class=\"dataframe\">\n",
       "  <thead>\n",
       "    <tr style=\"text-align: right;\">\n",
       "      <th></th>\n",
       "      <th>source</th>\n",
       "      <th>embedding</th>\n",
       "      <th>genres</th>\n",
       "    </tr>\n",
       "  </thead>\n",
       "  <tbody>\n",
       "    <tr>\n",
       "      <th>0</th>\n",
       "      <td>0</td>\n",
       "      <td>[1.1568369, 4.7216134, -4.829661, 2.67412, 4.1...</td>\n",
       "      <td>[0, 0, 1, 1, 1, 1, 0, 0, 0, 1, 0, 0, 0, 0, 0, ...</td>\n",
       "    </tr>\n",
       "    <tr>\n",
       "      <th>1</th>\n",
       "      <td>5</td>\n",
       "      <td>[0.3488815, 6.3227067, -3.6201174, -0.45922923...</td>\n",
       "      <td>[0, 0, 1, 0, 1, 0, 0, 0, 0, 1, 0, 0, 0, 0, 0, ...</td>\n",
       "    </tr>\n",
       "    <tr>\n",
       "      <th>2</th>\n",
       "      <td>7</td>\n",
       "      <td>[-0.07164516, 4.885974, -5.827049, -0.01449445...</td>\n",
       "      <td>[0, 0, 0, 0, 0, 1, 0, 0, 0, 0, 0, 0, 0, 0, 0, ...</td>\n",
       "    </tr>\n",
       "    <tr>\n",
       "      <th>3</th>\n",
       "      <td>8</td>\n",
       "      <td>[0.10417974, -3.2304595, 3.5939155, 1.1410666,...</td>\n",
       "      <td>[0, 0, 0, 0, 0, 1, 0, 0, 1, 0, 0, 0, 0, 0, 0, ...</td>\n",
       "    </tr>\n",
       "    <tr>\n",
       "      <th>4</th>\n",
       "      <td>11</td>\n",
       "      <td>[-1.383354, 1.648171, -3.7612596, -1.3233246, ...</td>\n",
       "      <td>[0, 0, 0, 0, 0, 1, 0, 0, 0, 0, 0, 0, 0, 0, 0, ...</td>\n",
       "    </tr>\n",
       "    <tr>\n",
       "      <th>...</th>\n",
       "      <td>...</td>\n",
       "      <td>...</td>\n",
       "      <td>...</td>\n",
       "    </tr>\n",
       "    <tr>\n",
       "      <th>9120</th>\n",
       "      <td>9140</td>\n",
       "      <td>[0.28404692, 0.21873271, -0.3254155, 1.6711218...</td>\n",
       "      <td>[0, 0, 1, 0, 0, 0, 0, 0, 1, 0, 0, 0, 0, 0, 0, ...</td>\n",
       "    </tr>\n",
       "    <tr>\n",
       "      <th>9121</th>\n",
       "      <td>9141</td>\n",
       "      <td>[-0.8980954, -1.6762947, -1.2756481, 0.9909565...</td>\n",
       "      <td>[0, 1, 1, 0, 0, 0, 0, 0, 0, 1, 0, 0, 0, 0, 0, ...</td>\n",
       "    </tr>\n",
       "    <tr>\n",
       "      <th>9122</th>\n",
       "      <td>9142</td>\n",
       "      <td>[0.6182944, -0.6889125, -0.38154954, 1.0363413...</td>\n",
       "      <td>[0, 0, 0, 0, 0, 0, 0, 1, 0, 0, 0, 0, 0, 0, 0, ...</td>\n",
       "    </tr>\n",
       "    <tr>\n",
       "      <th>9123</th>\n",
       "      <td>9143</td>\n",
       "      <td>[1.9886293, 1.4495139, 1.4017138, 0.2425547, 1...</td>\n",
       "      <td>[0, 0, 0, 0, 0, 1, 0, 0, 0, 0, 0, 0, 0, 0, 0, ...</td>\n",
       "    </tr>\n",
       "    <tr>\n",
       "      <th>9124</th>\n",
       "      <td>9144</td>\n",
       "      <td>[0.22486262, -0.75055265, -0.16337693, -0.3624...</td>\n",
       "      <td>[0, 0, 0, 0, 0, 0, 0, 1, 0, 0, 0, 0, 0, 0, 0, ...</td>\n",
       "    </tr>\n",
       "  </tbody>\n",
       "</table>\n",
       "<p>9125 rows × 3 columns</p>\n",
       "</div>"
      ],
      "text/plain": [
       "      source                                          embedding  \\\n",
       "0          0  [1.1568369, 4.7216134, -4.829661, 2.67412, 4.1...   \n",
       "1          5  [0.3488815, 6.3227067, -3.6201174, -0.45922923...   \n",
       "2          7  [-0.07164516, 4.885974, -5.827049, -0.01449445...   \n",
       "3          8  [0.10417974, -3.2304595, 3.5939155, 1.1410666,...   \n",
       "4         11  [-1.383354, 1.648171, -3.7612596, -1.3233246, ...   \n",
       "...      ...                                                ...   \n",
       "9120    9140  [0.28404692, 0.21873271, -0.3254155, 1.6711218...   \n",
       "9121    9141  [-0.8980954, -1.6762947, -1.2756481, 0.9909565...   \n",
       "9122    9142  [0.6182944, -0.6889125, -0.38154954, 1.0363413...   \n",
       "9123    9143  [1.9886293, 1.4495139, 1.4017138, 0.2425547, 1...   \n",
       "9124    9144  [0.22486262, -0.75055265, -0.16337693, -0.3624...   \n",
       "\n",
       "                                                 genres  \n",
       "0     [0, 0, 1, 1, 1, 1, 0, 0, 0, 1, 0, 0, 0, 0, 0, ...  \n",
       "1     [0, 0, 1, 0, 1, 0, 0, 0, 0, 1, 0, 0, 0, 0, 0, ...  \n",
       "2     [0, 0, 0, 0, 0, 1, 0, 0, 0, 0, 0, 0, 0, 0, 0, ...  \n",
       "3     [0, 0, 0, 0, 0, 1, 0, 0, 1, 0, 0, 0, 0, 0, 0, ...  \n",
       "4     [0, 0, 0, 0, 0, 1, 0, 0, 0, 0, 0, 0, 0, 0, 0, ...  \n",
       "...                                                 ...  \n",
       "9120  [0, 0, 1, 0, 0, 0, 0, 0, 1, 0, 0, 0, 0, 0, 0, ...  \n",
       "9121  [0, 1, 1, 0, 0, 0, 0, 0, 0, 1, 0, 0, 0, 0, 0, ...  \n",
       "9122  [0, 0, 0, 0, 0, 0, 0, 1, 0, 0, 0, 0, 0, 0, 0, ...  \n",
       "9123  [0, 0, 0, 0, 0, 1, 0, 0, 0, 0, 0, 0, 0, 0, 0, ...  \n",
       "9124  [0, 0, 0, 0, 0, 0, 0, 1, 0, 0, 0, 0, 0, 0, 0, ...  \n",
       "\n",
       "[9125 rows x 3 columns]"
      ]
     },
     "execution_count": 49,
     "metadata": {},
     "output_type": "execute_result"
    }
   ],
   "source": [
    "data"
   ]
  },
  {
   "cell_type": "code",
   "execution_count": 51,
   "metadata": {},
   "outputs": [],
   "source": [
    "data.to_csv('../data/data.csv', index=False)"
   ]
  }
 ],
 "metadata": {
  "kernelspec": {
   "display_name": "Python 3",
   "language": "python",
   "name": "python3"
  },
  "language_info": {
   "codemirror_mode": {
    "name": "ipython",
    "version": 3
   },
   "file_extension": ".py",
   "mimetype": "text/x-python",
   "name": "python",
   "nbconvert_exporter": "python",
   "pygments_lexer": "ipython3",
   "version": "3.7.6"
  }
 },
 "nbformat": 4,
 "nbformat_minor": 4
}
