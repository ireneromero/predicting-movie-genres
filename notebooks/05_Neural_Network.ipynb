{
 "cells": [
  {
   "cell_type": "code",
   "execution_count": 272,
   "metadata": {},
   "outputs": [],
   "source": [
    "import pandas as pd\n",
    "from sklearn.model_selection import train_test_split\n",
    "import matplotlib.pyplot as plt\n",
    "import numpy as np\n",
    "\n",
    "import torch\n",
    "import torch.nn as nn\n",
    "import torch.nn.functional as F"
   ]
  },
  {
   "cell_type": "code",
   "execution_count": 2,
   "metadata": {},
   "outputs": [],
   "source": [
    "df = pd.read_csv('../data/df.csv')"
   ]
  },
  {
   "cell_type": "code",
   "execution_count": 3,
   "metadata": {},
   "outputs": [
    {
     "data": {
      "text/html": [
       "<div>\n",
       "<style scoped>\n",
       "    .dataframe tbody tr th:only-of-type {\n",
       "        vertical-align: middle;\n",
       "    }\n",
       "\n",
       "    .dataframe tbody tr th {\n",
       "        vertical-align: top;\n",
       "    }\n",
       "\n",
       "    .dataframe thead th {\n",
       "        text-align: right;\n",
       "    }\n",
       "</style>\n",
       "<table border=\"1\" class=\"dataframe\">\n",
       "  <thead>\n",
       "    <tr style=\"text-align: right;\">\n",
       "      <th></th>\n",
       "      <th>source</th>\n",
       "      <th>embedding</th>\n",
       "      <th>genres</th>\n",
       "    </tr>\n",
       "  </thead>\n",
       "  <tbody>\n",
       "    <tr>\n",
       "      <th>0</th>\n",
       "      <td>0</td>\n",
       "      <td>[1.1568369, 4.7216134, -4.829661, 2.67412, 4.1...</td>\n",
       "      <td>[0, 0, 1, 1, 1, 1, 0, 0, 0, 1, 0, 0, 0, 0, 0, ...</td>\n",
       "    </tr>\n",
       "    <tr>\n",
       "      <th>1</th>\n",
       "      <td>5</td>\n",
       "      <td>[0.3488815, 6.3227067, -3.6201174, -0.45922923...</td>\n",
       "      <td>[0, 0, 1, 0, 1, 0, 0, 0, 0, 1, 0, 0, 0, 0, 0, ...</td>\n",
       "    </tr>\n",
       "    <tr>\n",
       "      <th>2</th>\n",
       "      <td>7</td>\n",
       "      <td>[-0.07164516, 4.885974, -5.827049, -0.01449445...</td>\n",
       "      <td>[0, 0, 0, 0, 0, 1, 0, 0, 0, 0, 0, 0, 0, 0, 0, ...</td>\n",
       "    </tr>\n",
       "    <tr>\n",
       "      <th>3</th>\n",
       "      <td>8</td>\n",
       "      <td>[0.10417974, -3.2304595, 3.5939155, 1.1410666,...</td>\n",
       "      <td>[0, 0, 0, 0, 0, 1, 0, 0, 1, 0, 0, 0, 0, 0, 0, ...</td>\n",
       "    </tr>\n",
       "    <tr>\n",
       "      <th>4</th>\n",
       "      <td>11</td>\n",
       "      <td>[-1.383354, 1.648171, -3.7612596, -1.3233246, ...</td>\n",
       "      <td>[0, 0, 0, 0, 0, 1, 0, 0, 0, 0, 0, 0, 0, 0, 0, ...</td>\n",
       "    </tr>\n",
       "    <tr>\n",
       "      <th>...</th>\n",
       "      <td>...</td>\n",
       "      <td>...</td>\n",
       "      <td>...</td>\n",
       "    </tr>\n",
       "    <tr>\n",
       "      <th>9120</th>\n",
       "      <td>9140</td>\n",
       "      <td>[0.28404692, 0.21873271, -0.3254155, 1.6711218...</td>\n",
       "      <td>[0, 0, 1, 0, 0, 0, 0, 0, 1, 0, 0, 0, 0, 0, 0, ...</td>\n",
       "    </tr>\n",
       "    <tr>\n",
       "      <th>9121</th>\n",
       "      <td>9141</td>\n",
       "      <td>[-0.8980954, -1.6762947, -1.2756481, 0.9909565...</td>\n",
       "      <td>[0, 1, 1, 0, 0, 0, 0, 0, 0, 1, 0, 0, 0, 0, 0, ...</td>\n",
       "    </tr>\n",
       "    <tr>\n",
       "      <th>9122</th>\n",
       "      <td>9142</td>\n",
       "      <td>[0.6182944, -0.6889125, -0.38154954, 1.0363413...</td>\n",
       "      <td>[0, 0, 0, 0, 0, 0, 0, 1, 0, 0, 0, 0, 0, 0, 0, ...</td>\n",
       "    </tr>\n",
       "    <tr>\n",
       "      <th>9123</th>\n",
       "      <td>9143</td>\n",
       "      <td>[1.9886293, 1.4495139, 1.4017138, 0.2425547, 1...</td>\n",
       "      <td>[0, 0, 0, 0, 0, 1, 0, 0, 0, 0, 0, 0, 0, 0, 0, ...</td>\n",
       "    </tr>\n",
       "    <tr>\n",
       "      <th>9124</th>\n",
       "      <td>9144</td>\n",
       "      <td>[0.22486262, -0.75055265, -0.16337693, -0.3624...</td>\n",
       "      <td>[0, 0, 0, 0, 0, 0, 0, 1, 0, 0, 0, 0, 0, 0, 0, ...</td>\n",
       "    </tr>\n",
       "  </tbody>\n",
       "</table>\n",
       "<p>9125 rows × 3 columns</p>\n",
       "</div>"
      ],
      "text/plain": [
       "      source                                          embedding  \\\n",
       "0          0  [1.1568369, 4.7216134, -4.829661, 2.67412, 4.1...   \n",
       "1          5  [0.3488815, 6.3227067, -3.6201174, -0.45922923...   \n",
       "2          7  [-0.07164516, 4.885974, -5.827049, -0.01449445...   \n",
       "3          8  [0.10417974, -3.2304595, 3.5939155, 1.1410666,...   \n",
       "4         11  [-1.383354, 1.648171, -3.7612596, -1.3233246, ...   \n",
       "...      ...                                                ...   \n",
       "9120    9140  [0.28404692, 0.21873271, -0.3254155, 1.6711218...   \n",
       "9121    9141  [-0.8980954, -1.6762947, -1.2756481, 0.9909565...   \n",
       "9122    9142  [0.6182944, -0.6889125, -0.38154954, 1.0363413...   \n",
       "9123    9143  [1.9886293, 1.4495139, 1.4017138, 0.2425547, 1...   \n",
       "9124    9144  [0.22486262, -0.75055265, -0.16337693, -0.3624...   \n",
       "\n",
       "                                                 genres  \n",
       "0     [0, 0, 1, 1, 1, 1, 0, 0, 0, 1, 0, 0, 0, 0, 0, ...  \n",
       "1     [0, 0, 1, 0, 1, 0, 0, 0, 0, 1, 0, 0, 0, 0, 0, ...  \n",
       "2     [0, 0, 0, 0, 0, 1, 0, 0, 0, 0, 0, 0, 0, 0, 0, ...  \n",
       "3     [0, 0, 0, 0, 0, 1, 0, 0, 1, 0, 0, 0, 0, 0, 0, ...  \n",
       "4     [0, 0, 0, 0, 0, 1, 0, 0, 0, 0, 0, 0, 0, 0, 0, ...  \n",
       "...                                                 ...  \n",
       "9120  [0, 0, 1, 0, 0, 0, 0, 0, 1, 0, 0, 0, 0, 0, 0, ...  \n",
       "9121  [0, 1, 1, 0, 0, 0, 0, 0, 0, 1, 0, 0, 0, 0, 0, ...  \n",
       "9122  [0, 0, 0, 0, 0, 0, 0, 1, 0, 0, 0, 0, 0, 0, 0, ...  \n",
       "9123  [0, 0, 0, 0, 0, 1, 0, 0, 0, 0, 0, 0, 0, 0, 0, ...  \n",
       "9124  [0, 0, 0, 0, 0, 0, 0, 1, 0, 0, 0, 0, 0, 0, 0, ...  \n",
       "\n",
       "[9125 rows x 3 columns]"
      ]
     },
     "execution_count": 3,
     "metadata": {},
     "output_type": "execute_result"
    }
   ],
   "source": [
    "df"
   ]
  },
  {
   "cell_type": "code",
   "execution_count": 362,
   "metadata": {},
   "outputs": [],
   "source": [
    "emb_cols = ['d' + str(i) for i in range(1, 101)]\n",
    "genre_cols = [\"Children\",\n",
    "\"Animation\",\n",
    "\"Romance\",\n",
    "\"Musical\",\n",
    "\"Thriller\",\n",
    "\"Fantasy\",\n",
    "\"War\",\n",
    "\"Western\",\n",
    "\"Crime\",\n",
    "\"IMAX\",\n",
    "\"Film-Noir\",\n",
    "\"Comedy\",\n",
    "\"Drama\",\n",
    "\"Horror\",\n",
    "\"Mystery\",\n",
    "\"Documentary\",\n",
    "\"Sci-Fi\",\n",
    "\"Adventure\",\n",
    "\"Action\",\n",
    "\"(no genres listed)\"]\n",
    "genre_cols.reverse()\n",
    "new_df = df.join(pd.DataFrame(df.genres.str.strip(\"[]\").str.split(\", \").tolist(), columns=genre_cols, index=df.index, dtype=int))\n",
    "new_df = new_df.join(pd.DataFrame(new_df.embedding.str.strip(\"[]\").str.split(\", \").tolist(), columns=emb_cols, index=new_df.index, dtype=float))\n",
    "new_df[genre_cols] = new_df[genre_cols].apply(pd.to_numeric, errors='raise')\n",
    "new_df = new_df.drop(['embedding', 'genres'], axis=1)\n",
    "data = new_df\n",
    "del new_df"
   ]
  },
  {
   "cell_type": "markdown",
   "metadata": {},
   "source": [
    "### 5. PyTorch NN"
   ]
  },
  {
   "cell_type": "markdown",
   "metadata": {},
   "source": [
    "Transforming pandas dataframe to torch tensor and splitting data into train, validation and test sets"
   ]
  },
  {
   "cell_type": "code",
   "execution_count": 234,
   "metadata": {},
   "outputs": [],
   "source": [
    "df_features = data[emb_cols]\n",
    "df_target = data[genre_cols]\n",
    "X = torch.Tensor(df_features.values).float()\n",
    "y = torch.Tensor(df_target.values).float()"
   ]
  },
  {
   "cell_type": "code",
   "execution_count": 235,
   "metadata": {},
   "outputs": [],
   "source": [
    "X_train, X_test, y_train, y_test = train_test_split(X, y, test_size=0.15, random_state=42, shuffle=True)\n",
    "X_train, X_val, y_train, y_val = train_test_split(X_train, y_train, test_size=0.15, shuffle=True)"
   ]
  },
  {
   "cell_type": "code",
   "execution_count": 236,
   "metadata": {},
   "outputs": [
    {
     "name": "stdout",
     "output_type": "stream",
     "text": [
      "Shape of X_train: torch.Size([6592, 100]); shape of y_train: torch.Size([6592, 20])\n",
      "Shape of X_val: torch.Size([1164, 100]); shape of y_val: torch.Size([1164, 20])\n",
      "Shape of X_test: torch.Size([1369, 100]); shape of y_test: torch.Size([1369, 20])\n"
     ]
    }
   ],
   "source": [
    "print(\"Shape of X_train: {}; shape of y_train: {}\".format(X_train.shape,y_train.shape))\n",
    "print(\"Shape of X_val: {}; shape of y_val: {}\".format(X_val.shape,y_val.shape))\n",
    "print(\"Shape of X_test: {}; shape of y_test: {}\".format(X_test.shape,y_test.shape))"
   ]
  },
  {
   "cell_type": "markdown",
   "metadata": {},
   "source": [
    "Neural Net (2 layers and ReLu activation):"
   ]
  },
  {
   "cell_type": "code",
   "execution_count": 280,
   "metadata": {},
   "outputs": [],
   "source": [
    "class Net(nn.Module):\n",
    "    def __init__(self, input_size, hidden_size_1, output_size):\n",
    "        super(Net, self).__init__()\n",
    "        self.layer1 = nn.Linear(input_size, hidden_size_1)\n",
    "        self.layer2 = nn.Linear(hidden_size_1, output_size)\n",
    "        \n",
    "    def forward(self, x):\n",
    "        x = F.relu(self.layer1(x))\n",
    "        x = self.layer2(x)\n",
    "        return x"
   ]
  },
  {
   "cell_type": "code",
   "execution_count": 290,
   "metadata": {},
   "outputs": [],
   "source": [
    "net = Net(100, 140, 20)\n",
    "optimizer = torch.optim.Adam(net.parameters(), lr=0.01, weight_decay=1e-5)\n",
    "loss_criterion = nn.MultiLabelSoftMarginLoss()\n",
    "epochs = 100"
   ]
  },
  {
   "cell_type": "markdown",
   "metadata": {},
   "source": [
    "Neural net training:"
   ]
  },
  {
   "cell_type": "code",
   "execution_count": 291,
   "metadata": {},
   "outputs": [],
   "source": [
    "losses = []\n",
    "losses_val = []\n",
    "for epoch in range(epochs):\n",
    "    y_predicted = net(X_train)\n",
    "    loss = loss_criterion(y_predicted, y_train)\n",
    "    losses.append(loss.item())\n",
    "    \n",
    "    optimizer.zero_grad()\n",
    "    loss.backward()\n",
    "    optimizer.step()\n",
    "    \n",
    "    with torch.no_grad():\n",
    "        y_pred_val = net(X_val)\n",
    "        losses_val.append(loss_criterion(y_pred_val, y_val))"
   ]
  },
  {
   "cell_type": "code",
   "execution_count": 370,
   "metadata": {},
   "outputs": [
    {
     "data": {
      "text/plain": [
       "Text(0, 0.5, 'MultiLabelSoftMarginLoss')"
      ]
     },
     "execution_count": 370,
     "metadata": {},
     "output_type": "execute_result"
    },
    {
     "data": {
      "image/png": "[encoded data removed]",
      "text/plain": [
       "<Figure size 576x576 with 1 Axes>"
      ]
     },
     "metadata": {
      "needs_background": "light"
     },
     "output_type": "display_data"
    }
   ],
   "source": [
    "plt.figure(figsize=(8,8))\n",
    "line_training = plt.plot(losses, label='Training Loss')\n",
    "line_validation = plt.plot(losses_val, label='Validation Loss')\n",
    "plt.title(\"Loss evolution during training for NN100/140/20\")\n",
    "plt.legend()\n",
    "plt.xlabel('Epochs')\n",
    "plt.ylabel('MultiLabelSoftMarginLoss')"
   ]
  },
  {
   "cell_type": "markdown",
   "metadata": {},
   "source": [
    "#### Model Evaluation:"
   ]
  },
  {
   "cell_type": "code",
   "execution_count": 375,
   "metadata": {},
   "outputs": [],
   "source": [
    "from sklearn.metrics import multilabel_confusion_matrix, label_ranking_average_precision_score"
   ]
  },
  {
   "cell_type": "code",
   "execution_count": 371,
   "metadata": {},
   "outputs": [],
   "source": [
    "y_test_pred = net(X_test)"
   ]
  },
  {
   "cell_type": "code",
   "execution_count": 273,
   "metadata": {},
   "outputs": [],
   "source": [
    "def probs_to_labels(y_elem):\n",
    "    if y_elem > 0: return 1\n",
    "    else: return 0\n",
    "probs_to_labels_vec = np.vectorize(probs_to_labels)"
   ]
  },
  {
   "cell_type": "code",
   "execution_count": 374,
   "metadata": {
    "scrolled": true
   },
   "outputs": [
    {
     "data": {
      "text/plain": [
       "array([[[1366,    0],\n",
       "        [   0,    3]],\n",
       "\n",
       "       [[1134,    9],\n",
       "        [  11,  215]],\n",
       "\n",
       "       [[1204,    3],\n",
       "        [   6,  156]],\n",
       "\n",
       "       [[1290,    2],\n",
       "        [   0,   77]],\n",
       "\n",
       "       [[1281,    3],\n",
       "        [   2,   83]],\n",
       "\n",
       "       [[ 851,    9],\n",
       "        [   9,  500]],\n",
       "\n",
       "       [[1208,    9],\n",
       "        [   2,  150]],\n",
       "\n",
       "       [[1293,    1],\n",
       "        [   0,   75]],\n",
       "\n",
       "       [[ 709,   18],\n",
       "        [  27,  615]],\n",
       "\n",
       "       [[1254,    4],\n",
       "        [   4,  107]],\n",
       "\n",
       "       [[1342,    5],\n",
       "        [   0,   22]],\n",
       "\n",
       "       [[1229,    4],\n",
       "        [   1,  135]],\n",
       "\n",
       "       [[1349,    3],\n",
       "        [   0,   17]],\n",
       "\n",
       "       [[1297,    1],\n",
       "        [   2,   69]],\n",
       "\n",
       "       [[1285,    4],\n",
       "        [   1,   79]],\n",
       "\n",
       "       [[1123,    9],\n",
       "        [   6,  231]],\n",
       "\n",
       "       [[1245,    5],\n",
       "        [   3,  116]],\n",
       "\n",
       "       [[1100,   12],\n",
       "        [  13,  244]],\n",
       "\n",
       "       [[1308,    7],\n",
       "        [   1,   53]],\n",
       "\n",
       "       [[1343,    2],\n",
       "        [   1,   23]]])"
      ]
     },
     "execution_count": 374,
     "metadata": {},
     "output_type": "execute_result"
    }
   ],
   "source": [
    "multilabel_confusion_matrix(probs_to_labels_vec(y_test_pred2.detach().numpy()), y_test.numpy())"
   ]
  },
  {
   "cell_type": "code",
   "execution_count": 380,
   "metadata": {},
   "outputs": [
    {
     "data": {
      "text/plain": [
       "0.9587624207218794"
      ]
     },
     "execution_count": 380,
     "metadata": {},
     "output_type": "execute_result"
    }
   ],
   "source": [
    "label_ranking_average_precision_score(probs_to_labels_vec(y_test_pred2.detach().numpy()), y_test.numpy()) # greater than 0, best is 1"
   ]
  },
  {
   "cell_type": "markdown",
   "metadata": {},
   "source": [
    "### Testing with some movies"
   ]
  },
  {
   "cell_type": "code",
   "execution_count": 401,
   "metadata": {},
   "outputs": [],
   "source": [
    "def get_movie_genres(df, id_movie):\n",
    "    # Obtain true genres\n",
    "    genres_true = df[df['source']==id_movie].genres.str.strip(\"[]\").str.split(\", \").tolist()\n",
    "    genres_true = list(map(float,genres_true[0]))\n",
    "    return genres_true"
   ]
  },
  {
   "cell_type": "code",
   "execution_count": 398,
   "metadata": {},
   "outputs": [],
   "source": [
    "def predict_movie_genres(df, id_movie, model):\n",
    "    # Obtain embedding for movie with id_movie\n",
    "    emb = df[df['source']==id_movie].embedding.str.strip(\"[]\").str.split(\", \").tolist()\n",
    "    emb = list(map(float,emb[0]))\n",
    "    emb = torch.Tensor(emb).float()\n",
    "    \n",
    "    # Predict genres using model\n",
    "    genres_predicted = model(emb)\n",
    "    genres_predicted = probs_to_labels_vec(genres_predicted.detach().numpy())\n",
    "    \n",
    "    return genres_predicted"
   ]
  },
  {
   "cell_type": "code",
   "execution_count": 435,
   "metadata": {},
   "outputs": [],
   "source": [
    "def label_to_genre(labels, genres):\n",
    "    return genre_cols[np.array(np.argwhere(g_p).flatten())]"
   ]
  },
  {
   "cell_type": "code",
   "execution_count": 437,
   "metadata": {},
   "outputs": [
    {
     "ename": "TypeError",
     "evalue": "only integer scalar arrays can be converted to a scalar index",
     "output_type": "error",
     "traceback": [
      "\u001b[0;31m---------------------------------------------------------------------------\u001b[0m",
      "\u001b[0;31mTypeError\u001b[0m                                 Traceback (most recent call last)",
      "\u001b[0;32m<ipython-input-437-76a41e473dfa>\u001b[0m in \u001b[0;36m<module>\u001b[0;34m\u001b[0m\n\u001b[0;32m----> 1\u001b[0;31m \u001b[0mlabel_to_genre\u001b[0m\u001b[0;34m(\u001b[0m\u001b[0mprobs_to_labels_vec\u001b[0m\u001b[0;34m(\u001b[0m\u001b[0mnet\u001b[0m\u001b[0;34m(\u001b[0m\u001b[0memb9104\u001b[0m\u001b[0;34m)\u001b[0m\u001b[0;34m.\u001b[0m\u001b[0mdetach\u001b[0m\u001b[0;34m(\u001b[0m\u001b[0;34m)\u001b[0m\u001b[0;34m.\u001b[0m\u001b[0mnumpy\u001b[0m\u001b[0;34m(\u001b[0m\u001b[0;34m)\u001b[0m\u001b[0;34m)\u001b[0m\u001b[0;34m,\u001b[0m \u001b[0mgenre_cols\u001b[0m\u001b[0;34m)\u001b[0m\u001b[0;34m\u001b[0m\u001b[0;34m\u001b[0m\u001b[0m\n\u001b[0m",
      "\u001b[0;32m<ipython-input-435-937adcb9af16>\u001b[0m in \u001b[0;36mlabel_to_genre\u001b[0;34m(labels, genres)\u001b[0m\n\u001b[1;32m      1\u001b[0m \u001b[0;32mdef\u001b[0m \u001b[0mlabel_to_genre\u001b[0m\u001b[0;34m(\u001b[0m\u001b[0mlabels\u001b[0m\u001b[0;34m,\u001b[0m \u001b[0mgenres\u001b[0m\u001b[0;34m)\u001b[0m\u001b[0;34m:\u001b[0m\u001b[0;34m\u001b[0m\u001b[0;34m\u001b[0m\u001b[0m\n\u001b[0;32m----> 2\u001b[0;31m     \u001b[0;32mreturn\u001b[0m \u001b[0mgenre_cols\u001b[0m\u001b[0;34m[\u001b[0m\u001b[0mnp\u001b[0m\u001b[0;34m.\u001b[0m\u001b[0marray\u001b[0m\u001b[0;34m(\u001b[0m\u001b[0mnp\u001b[0m\u001b[0;34m.\u001b[0m\u001b[0margwhere\u001b[0m\u001b[0;34m(\u001b[0m\u001b[0mg_p\u001b[0m\u001b[0;34m)\u001b[0m\u001b[0;34m.\u001b[0m\u001b[0mflatten\u001b[0m\u001b[0;34m(\u001b[0m\u001b[0;34m)\u001b[0m\u001b[0;34m)\u001b[0m\u001b[0;34m]\u001b[0m\u001b[0;34m\u001b[0m\u001b[0;34m\u001b[0m\u001b[0m\n\u001b[0m",
      "\u001b[0;31mTypeError\u001b[0m: only integer scalar arrays can be converted to a scalar index"
     ]
    }
   ],
   "source": [
    "label_to_genre(probs_to_labels_vec(net(emb9104).detach().numpy()), genre_cols)"
   ]
  },
  {
   "cell_type": "code",
   "execution_count": 417,
   "metadata": {},
   "outputs": [],
   "source": [
    "index_genre = np.argwhere(g_p).flatten()"
   ]
  },
  {
   "cell_type": "code",
   "execution_count": 421,
   "metadata": {},
   "outputs": [
    {
     "data": {
      "text/plain": [
       "array([1, 2])"
      ]
     },
     "execution_count": 421,
     "metadata": {},
     "output_type": "execute_result"
    }
   ],
   "source": [
    "index_genre.flatten()"
   ]
  },
  {
   "cell_type": "code",
   "execution_count": 432,
   "metadata": {},
   "outputs": [
    {
     "data": {
      "text/plain": [
       "array([['Action'],\n",
       "       ['Adventure']], dtype='<U18')"
      ]
     },
     "execution_count": 432,
     "metadata": {},
     "output_type": "execute_result"
    }
   ],
   "source": [
    "np.array(genre_cols)[np.argwhere(g_p)]"
   ]
  },
  {
   "cell_type": "code",
   "execution_count": 414,
   "metadata": {},
   "outputs": [
    {
     "ename": "TypeError",
     "evalue": "only integer scalar arrays can be converted to a scalar index",
     "output_type": "error",
     "traceback": [
      "\u001b[0;31m---------------------------------------------------------------------------\u001b[0m",
      "\u001b[0;31mTypeError\u001b[0m                                 Traceback (most recent call last)",
      "\u001b[0;32m<ipython-input-414-0351719fc8cd>\u001b[0m in \u001b[0;36m<module>\u001b[0;34m\u001b[0m\n\u001b[0;32m----> 1\u001b[0;31m \u001b[0mgenre_cols\u001b[0m\u001b[0;34m[\u001b[0m\u001b[0mnp\u001b[0m\u001b[0;34m.\u001b[0m\u001b[0marray\u001b[0m\u001b[0;34m(\u001b[0m\u001b[0mnp\u001b[0m\u001b[0;34m.\u001b[0m\u001b[0margwhere\u001b[0m\u001b[0;34m(\u001b[0m\u001b[0mg_p\u001b[0m\u001b[0;34m)\u001b[0m\u001b[0;34m.\u001b[0m\u001b[0mflatten\u001b[0m\u001b[0;34m(\u001b[0m\u001b[0;34m)\u001b[0m\u001b[0;34m)\u001b[0m\u001b[0;34m]\u001b[0m\u001b[0;34m\u001b[0m\u001b[0;34m\u001b[0m\u001b[0m\n\u001b[0m",
      "\u001b[0;31mTypeError\u001b[0m: only integer scalar arrays can be converted to a scalar index"
     ]
    }
   ],
   "source": [
    "genre_cols[np.array(np.argwhere(g_p).flatten())]"
   ]
  },
  {
   "cell_type": "code",
   "execution_count": 402,
   "metadata": {},
   "outputs": [],
   "source": [
    "g_p = predict_movie_genres(df, 9123, net)"
   ]
  },
  {
   "cell_type": "code",
   "execution_count": 390,
   "metadata": {},
   "outputs": [],
   "source": [
    "g_p = g_p.detach().numpy()"
   ]
  },
  {
   "cell_type": "code",
   "execution_count": 338,
   "metadata": {},
   "outputs": [],
   "source": [
    "emb9123 = df[df['source']==9123].embedding.str.strip(\"[]\").str.split(\", \").tolist()\n",
    "emb9123 = list(map(float,emb9123[0]))\n",
    "emb9123 = torch.Tensor(emb9123).float()"
   ]
  },
  {
   "cell_type": "code",
   "execution_count": 339,
   "metadata": {},
   "outputs": [],
   "source": [
    "target9123 = df[df['source']==9123].genres.str.strip(\"[]\").str.split(\", \").tolist()"
   ]
  },
  {
   "cell_type": "code",
   "execution_count": 320,
   "metadata": {},
   "outputs": [
    {
     "data": {
      "text/plain": [
       "[['0',\n",
       "  '1',\n",
       "  '1',\n",
       "  '0',\n",
       "  '0',\n",
       "  '0',\n",
       "  '0',\n",
       "  '0',\n",
       "  '0',\n",
       "  '0',\n",
       "  '0',\n",
       "  '0',\n",
       "  '0',\n",
       "  '0',\n",
       "  '0',\n",
       "  '0',\n",
       "  '0',\n",
       "  '0',\n",
       "  '0',\n",
       "  '0']]"
      ]
     },
     "execution_count": 320,
     "metadata": {},
     "output_type": "execute_result"
    }
   ],
   "source": [
    "target9123"
   ]
  },
  {
   "cell_type": "code",
   "execution_count": 340,
   "metadata": {},
   "outputs": [
    {
     "data": {
      "text/plain": [
       "array([0, 1, 1, 0, 0, 0, 0, 0, 0, 0, 0, 0, 0, 0, 0, 0, 0, 0, 0, 0])"
      ]
     },
     "execution_count": 340,
     "metadata": {},
     "output_type": "execute_result"
    }
   ],
   "source": [
    "probs_to_labels_vec(net(emb9123).detach().numpy())"
   ]
  },
  {
   "cell_type": "code",
   "execution_count": 333,
   "metadata": {},
   "outputs": [],
   "source": [
    "emb9104 = df[df['source']==9104].embedding.str.strip(\"[]\").str.split(\", \").tolist()\n",
    "emb9104 = list(map(float,emb9104[0]))\n",
    "emb9104 = torch.Tensor(emb9104).float()\n",
    "target9104 = df[df['source']==9104].genres.str.strip(\"[]\").str.split(\", \").tolist()"
   ]
  },
  {
   "cell_type": "code",
   "execution_count": 334,
   "metadata": {},
   "outputs": [
    {
     "data": {
      "text/plain": [
       "array([-15.997797, -19.581793, -27.709002, -26.10473 , -23.609785,\n",
       "       -29.775429, -16.068363, -15.855237,  15.827019, -21.766108,\n",
       "       -18.844114, -16.519047, -18.866941, -25.212662, -23.801748,\n",
       "       -21.483915, -26.656443,  13.931328,  -9.225103, -20.784056],\n",
       "      dtype=float32)"
      ]
     },
     "execution_count": 334,
     "metadata": {},
     "output_type": "execute_result"
    }
   ],
   "source": [
    "net2(emb9104).detach().numpy()"
   ]
  },
  {
   "cell_type": "code",
   "execution_count": 345,
   "metadata": {},
   "outputs": [
    {
     "data": {
      "text/html": [
       "<div>\n",
       "<style scoped>\n",
       "    .dataframe tbody tr th:only-of-type {\n",
       "        vertical-align: middle;\n",
       "    }\n",
       "\n",
       "    .dataframe tbody tr th {\n",
       "        vertical-align: top;\n",
       "    }\n",
       "\n",
       "    .dataframe thead th {\n",
       "        text-align: right;\n",
       "    }\n",
       "</style>\n",
       "<table border=\"1\" class=\"dataframe\">\n",
       "  <thead>\n",
       "    <tr style=\"text-align: right;\">\n",
       "      <th></th>\n",
       "      <th>source</th>\n",
       "      <th>embedding</th>\n",
       "      <th>genres</th>\n",
       "    </tr>\n",
       "  </thead>\n",
       "  <tbody>\n",
       "    <tr>\n",
       "      <th>9084</th>\n",
       "      <td>9104</td>\n",
       "      <td>[2.6167502, -0.22942701, 1.785225, -1.6360013,...</td>\n",
       "      <td>[0, 0, 0, 0, 0, 0, 0, 0, 1, 0, 0, 0, 0, 0, 0, ...</td>\n",
       "    </tr>\n",
       "  </tbody>\n",
       "</table>\n",
       "</div>"
      ],
      "text/plain": [
       "      source                                          embedding  \\\n",
       "9084    9104  [2.6167502, -0.22942701, 1.785225, -1.6360013,...   \n",
       "\n",
       "                                                 genres  \n",
       "9084  [0, 0, 0, 0, 0, 0, 0, 0, 1, 0, 0, 0, 0, 0, 0, ...  "
      ]
     },
     "execution_count": 345,
     "metadata": {},
     "output_type": "execute_result"
    }
   ],
   "source": [
    "df[df['source']==9104]"
   ]
  },
  {
   "cell_type": "code",
   "execution_count": 342,
   "metadata": {},
   "outputs": [
    {
     "data": {
      "text/plain": [
       "['0',\n",
       " '0',\n",
       " '0',\n",
       " '0',\n",
       " '0',\n",
       " '0',\n",
       " '0',\n",
       " '0',\n",
       " '1',\n",
       " '0',\n",
       " '0',\n",
       " '0',\n",
       " '0',\n",
       " '0',\n",
       " '0',\n",
       " '0',\n",
       " '0',\n",
       " '1',\n",
       " '0',\n",
       " '0']"
      ]
     },
     "execution_count": 342,
     "metadata": {},
     "output_type": "execute_result"
    }
   ],
   "source": [
    "target9104[0]"
   ]
  },
  {
   "cell_type": "code",
   "execution_count": 335,
   "metadata": {},
   "outputs": [
    {
     "data": {
      "text/plain": [
       "array([0, 0, 0, 0, 0, 0, 0, 0, 1, 0, 0, 0, 0, 0, 0, 0, 0, 1, 0, 0])"
      ]
     },
     "execution_count": 335,
     "metadata": {},
     "output_type": "execute_result"
    }
   ],
   "source": [
    "probs_to_labels_vec(net2(emb9104).detach().numpy())"
   ]
  },
  {
   "cell_type": "code",
   "execution_count": 346,
   "metadata": {},
   "outputs": [],
   "source": [
    "emb0 = df[df['source']==0].embedding.str.strip(\"[]\").str.split(\", \").tolist()\n",
    "emb0 = list(map(float,emb0[0]))\n",
    "emb0 = torch.Tensor(emb0).float()\n",
    "target0 = df[df['source']==0].genres.str.strip(\"[]\").str.split(\", \").tolist()"
   ]
  },
  {
   "cell_type": "code",
   "execution_count": 350,
   "metadata": {},
   "outputs": [
    {
     "data": {
      "text/plain": [
       "[['0',\n",
       "  '0',\n",
       "  '1',\n",
       "  '1',\n",
       "  '1',\n",
       "  '1',\n",
       "  '0',\n",
       "  '0',\n",
       "  '0',\n",
       "  '1',\n",
       "  '0',\n",
       "  '0',\n",
       "  '0',\n",
       "  '0',\n",
       "  '0',\n",
       "  '0',\n",
       "  '0',\n",
       "  '0',\n",
       "  '0',\n",
       "  '0']]"
      ]
     },
     "execution_count": 350,
     "metadata": {},
     "output_type": "execute_result"
    }
   ],
   "source": [
    "target0"
   ]
  },
  {
   "cell_type": "code",
   "execution_count": 349,
   "metadata": {},
   "outputs": [
    {
     "data": {
      "text/plain": [
       "array([0, 1, 1, 1, 1, 1, 0, 0, 0, 1, 0, 0, 0, 0, 0, 0, 0, 0, 0, 0])"
      ]
     },
     "execution_count": 349,
     "metadata": {},
     "output_type": "execute_result"
    }
   ],
   "source": [
    "probs_to_labels_vec(net(emb0).detach().numpy())"
   ]
  },
  {
   "cell_type": "code",
   "execution_count": 356,
   "metadata": {},
   "outputs": [
    {
     "data": {
      "text/plain": [
       "array([0, 0, 0, 0, 0, 1, 0, 0, 1, 0, 0, 0, 0, 0, 0, 1, 0, 0, 0, 0])"
      ]
     },
     "execution_count": 356,
     "metadata": {},
     "output_type": "execute_result"
    }
   ],
   "source": [
    "emb9000 = df[df['source']==9000].embedding.str.strip(\"[]\").str.split(\", \").tolist()\n",
    "emb9000 = list(map(float,emb9000[0]))\n",
    "emb9000 = torch.Tensor(emb9000).float()\n",
    "target9000 = df[df['source']==9000].genres.str.strip(\"[]\").str.split(\", \").tolist()\n",
    "probs_to_labels_vec(net(emb9000).detach().numpy())"
   ]
  },
  {
   "cell_type": "code",
   "execution_count": 357,
   "metadata": {},
   "outputs": [
    {
     "data": {
      "text/plain": [
       "[['0',\n",
       "  '0',\n",
       "  '0',\n",
       "  '0',\n",
       "  '0',\n",
       "  '1',\n",
       "  '0',\n",
       "  '0',\n",
       "  '1',\n",
       "  '0',\n",
       "  '0',\n",
       "  '0',\n",
       "  '0',\n",
       "  '0',\n",
       "  '0',\n",
       "  '1',\n",
       "  '0',\n",
       "  '0',\n",
       "  '0',\n",
       "  '0']]"
      ]
     },
     "execution_count": 357,
     "metadata": {},
     "output_type": "execute_result"
    }
   ],
   "source": [
    "target9000"
   ]
  }
 ],
 "metadata": {
  "kernelspec": {
   "display_name": "Python 3",
   "language": "python",
   "name": "python3"
  },
  "language_info": {
   "codemirror_mode": {
    "name": "ipython",
    "version": 3
   },
   "file_extension": ".py",
   "mimetype": "text/x-python",
   "name": "python",
   "nbconvert_exporter": "python",
   "pygments_lexer": "ipython3",
   "version": "3.7.6"
  }
 },
 "nbformat": 4,
 "nbformat_minor": 4
}
